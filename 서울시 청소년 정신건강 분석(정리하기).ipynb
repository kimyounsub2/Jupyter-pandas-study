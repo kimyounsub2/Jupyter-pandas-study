{
 "cells": [
  {
   "cell_type": "markdown",
   "metadata": {},
   "source": [
    "# 서울시 청소년 정신건강 분석"
   ]
  },
  {
   "cell_type": "code",
   "execution_count": 1,
   "metadata": {},
   "outputs": [],
   "source": [
    "import pandas as pd"
   ]
  },
  {
   "cell_type": "code",
   "execution_count": 4,
   "metadata": {},
   "outputs": [
    {
     "data": {
      "text/plain": [
       "DatetimeIndex(['2019-03-01', '2019-03-02', '2019-03-03', '2019-03-04',\n",
       "               '2019-03-05', '2019-03-06'],\n",
       "              dtype='datetime64[ns]', freq='D')"
      ]
     },
     "execution_count": 4,
     "metadata": {},
     "output_type": "execute_result"
    }
   ],
   "source": [
    "dates = pd.date_range('20190301', periods=6)\n",
    "dates"
   ]
  },
  {
   "cell_type": "code",
   "execution_count": 5,
   "metadata": {},
   "outputs": [],
   "source": [
    "import numpy as np"
   ]
  },
  {
   "cell_type": "code",
   "execution_count": 9,
   "metadata": {},
   "outputs": [
    {
     "data": {
      "text/html": [
       "<div>\n",
       "<style scoped>\n",
       "    .dataframe tbody tr th:only-of-type {\n",
       "        vertical-align: middle;\n",
       "    }\n",
       "\n",
       "    .dataframe tbody tr th {\n",
       "        vertical-align: top;\n",
       "    }\n",
       "\n",
       "    .dataframe thead th {\n",
       "        text-align: right;\n",
       "    }\n",
       "</style>\n",
       "<table border=\"1\" class=\"dataframe\">\n",
       "  <thead>\n",
       "    <tr style=\"text-align: right;\">\n",
       "      <th></th>\n",
       "      <th>A</th>\n",
       "      <th>B</th>\n",
       "      <th>C</th>\n",
       "      <th>D</th>\n",
       "    </tr>\n",
       "  </thead>\n",
       "  <tbody>\n",
       "    <tr>\n",
       "      <td>2019-03-01</td>\n",
       "      <td>0.945170</td>\n",
       "      <td>-0.511345</td>\n",
       "      <td>0.932395</td>\n",
       "      <td>-0.607492</td>\n",
       "    </tr>\n",
       "    <tr>\n",
       "      <td>2019-03-02</td>\n",
       "      <td>-0.052545</td>\n",
       "      <td>0.343527</td>\n",
       "      <td>-1.144983</td>\n",
       "      <td>0.332703</td>\n",
       "    </tr>\n",
       "    <tr>\n",
       "      <td>2019-03-03</td>\n",
       "      <td>0.692046</td>\n",
       "      <td>0.910648</td>\n",
       "      <td>0.432863</td>\n",
       "      <td>0.007921</td>\n",
       "    </tr>\n",
       "    <tr>\n",
       "      <td>2019-03-04</td>\n",
       "      <td>0.589705</td>\n",
       "      <td>-0.821430</td>\n",
       "      <td>-0.300550</td>\n",
       "      <td>-0.259729</td>\n",
       "    </tr>\n",
       "    <tr>\n",
       "      <td>2019-03-05</td>\n",
       "      <td>0.646581</td>\n",
       "      <td>0.558075</td>\n",
       "      <td>-1.698096</td>\n",
       "      <td>0.416643</td>\n",
       "    </tr>\n",
       "    <tr>\n",
       "      <td>2019-03-06</td>\n",
       "      <td>0.922716</td>\n",
       "      <td>-0.619723</td>\n",
       "      <td>0.773386</td>\n",
       "      <td>0.428459</td>\n",
       "    </tr>\n",
       "  </tbody>\n",
       "</table>\n",
       "</div>"
      ],
      "text/plain": [
       "                   A         B         C         D\n",
       "2019-03-01  0.945170 -0.511345  0.932395 -0.607492\n",
       "2019-03-02 -0.052545  0.343527 -1.144983  0.332703\n",
       "2019-03-03  0.692046  0.910648  0.432863  0.007921\n",
       "2019-03-04  0.589705 -0.821430 -0.300550 -0.259729\n",
       "2019-03-05  0.646581  0.558075 -1.698096  0.416643\n",
       "2019-03-06  0.922716 -0.619723  0.773386  0.428459"
      ]
     },
     "execution_count": 9,
     "metadata": {},
     "output_type": "execute_result"
    }
   ],
   "source": [
    "df = pd.DataFrame(np.random.randn(6,4), index = dates, columns=['A','B','C','D'])\n",
    "df"
   ]
  },
  {
   "cell_type": "code",
   "execution_count": 10,
   "metadata": {},
   "outputs": [
    {
     "data": {
      "text/plain": [
       "pandas.core.frame.DataFrame"
      ]
     },
     "execution_count": 10,
     "metadata": {},
     "output_type": "execute_result"
    }
   ],
   "source": [
    "type(df)"
   ]
  },
  {
   "cell_type": "code",
   "execution_count": 11,
   "metadata": {},
   "outputs": [
    {
     "data": {
      "text/plain": [
       "Index(['A', 'B', 'C', 'D'], dtype='object')"
      ]
     },
     "execution_count": 11,
     "metadata": {},
     "output_type": "execute_result"
    }
   ],
   "source": [
    "df.columns"
   ]
  },
  {
   "cell_type": "code",
   "execution_count": 12,
   "metadata": {},
   "outputs": [
    {
     "data": {
      "text/plain": [
       "DatetimeIndex(['2019-03-01', '2019-03-02', '2019-03-03', '2019-03-04',\n",
       "               '2019-03-05', '2019-03-06'],\n",
       "              dtype='datetime64[ns]', freq='D')"
      ]
     },
     "execution_count": 12,
     "metadata": {},
     "output_type": "execute_result"
    }
   ],
   "source": [
    "df.index"
   ]
  },
  {
   "cell_type": "code",
   "execution_count": 13,
   "metadata": {},
   "outputs": [
    {
     "data": {
      "text/plain": [
       "array([[ 0.94516991, -0.51134523,  0.93239472, -0.60749188],\n",
       "       [-0.05254468,  0.34352668, -1.14498268,  0.33270258],\n",
       "       [ 0.69204606,  0.91064785,  0.4328631 ,  0.00792051],\n",
       "       [ 0.58970535, -0.82143028, -0.30055014, -0.25972938],\n",
       "       [ 0.64658112,  0.55807525, -1.69809639,  0.41664297],\n",
       "       [ 0.92271585, -0.61972251,  0.77338591,  0.42845882]])"
      ]
     },
     "execution_count": 13,
     "metadata": {},
     "output_type": "execute_result"
    }
   ],
   "source": [
    "df.values"
   ]
  },
  {
   "cell_type": "markdown",
   "metadata": {},
   "source": [
    "### 정렬 기능 등의 기초 활용 함수"
   ]
  },
  {
   "cell_type": "code",
   "execution_count": 14,
   "metadata": {},
   "outputs": [
    {
     "data": {
      "text/html": [
       "<div>\n",
       "<style scoped>\n",
       "    .dataframe tbody tr th:only-of-type {\n",
       "        vertical-align: middle;\n",
       "    }\n",
       "\n",
       "    .dataframe tbody tr th {\n",
       "        vertical-align: top;\n",
       "    }\n",
       "\n",
       "    .dataframe thead th {\n",
       "        text-align: right;\n",
       "    }\n",
       "</style>\n",
       "<table border=\"1\" class=\"dataframe\">\n",
       "  <thead>\n",
       "    <tr style=\"text-align: right;\">\n",
       "      <th></th>\n",
       "      <th>A</th>\n",
       "      <th>B</th>\n",
       "      <th>C</th>\n",
       "      <th>D</th>\n",
       "    </tr>\n",
       "  </thead>\n",
       "  <tbody>\n",
       "    <tr>\n",
       "      <td>count</td>\n",
       "      <td>6.000000</td>\n",
       "      <td>6.000000</td>\n",
       "      <td>6.000000</td>\n",
       "      <td>6.000000</td>\n",
       "    </tr>\n",
       "    <tr>\n",
       "      <td>mean</td>\n",
       "      <td>0.623946</td>\n",
       "      <td>-0.023375</td>\n",
       "      <td>-0.167498</td>\n",
       "      <td>0.053084</td>\n",
       "    </tr>\n",
       "    <tr>\n",
       "      <td>std</td>\n",
       "      <td>0.362329</td>\n",
       "      <td>0.717738</td>\n",
       "      <td>1.074371</td>\n",
       "      <td>0.421312</td>\n",
       "    </tr>\n",
       "    <tr>\n",
       "      <td>min</td>\n",
       "      <td>-0.052545</td>\n",
       "      <td>-0.821430</td>\n",
       "      <td>-1.698096</td>\n",
       "      <td>-0.607492</td>\n",
       "    </tr>\n",
       "    <tr>\n",
       "      <td>25%</td>\n",
       "      <td>0.603924</td>\n",
       "      <td>-0.592628</td>\n",
       "      <td>-0.933875</td>\n",
       "      <td>-0.192817</td>\n",
       "    </tr>\n",
       "    <tr>\n",
       "      <td>50%</td>\n",
       "      <td>0.669314</td>\n",
       "      <td>-0.083909</td>\n",
       "      <td>0.066156</td>\n",
       "      <td>0.170312</td>\n",
       "    </tr>\n",
       "    <tr>\n",
       "      <td>75%</td>\n",
       "      <td>0.865048</td>\n",
       "      <td>0.504438</td>\n",
       "      <td>0.688255</td>\n",
       "      <td>0.395658</td>\n",
       "    </tr>\n",
       "    <tr>\n",
       "      <td>max</td>\n",
       "      <td>0.945170</td>\n",
       "      <td>0.910648</td>\n",
       "      <td>0.932395</td>\n",
       "      <td>0.428459</td>\n",
       "    </tr>\n",
       "  </tbody>\n",
       "</table>\n",
       "</div>"
      ],
      "text/plain": [
       "              A         B         C         D\n",
       "count  6.000000  6.000000  6.000000  6.000000\n",
       "mean   0.623946 -0.023375 -0.167498  0.053084\n",
       "std    0.362329  0.717738  1.074371  0.421312\n",
       "min   -0.052545 -0.821430 -1.698096 -0.607492\n",
       "25%    0.603924 -0.592628 -0.933875 -0.192817\n",
       "50%    0.669314 -0.083909  0.066156  0.170312\n",
       "75%    0.865048  0.504438  0.688255  0.395658\n",
       "max    0.945170  0.910648  0.932395  0.428459"
      ]
     },
     "execution_count": 14,
     "metadata": {},
     "output_type": "execute_result"
    }
   ],
   "source": [
    "df.describe()"
   ]
  },
  {
   "cell_type": "code",
   "execution_count": 16,
   "metadata": {},
   "outputs": [
    {
     "data": {
      "text/html": [
       "<div>\n",
       "<style scoped>\n",
       "    .dataframe tbody tr th:only-of-type {\n",
       "        vertical-align: middle;\n",
       "    }\n",
       "\n",
       "    .dataframe tbody tr th {\n",
       "        vertical-align: top;\n",
       "    }\n",
       "\n",
       "    .dataframe thead th {\n",
       "        text-align: right;\n",
       "    }\n",
       "</style>\n",
       "<table border=\"1\" class=\"dataframe\">\n",
       "  <thead>\n",
       "    <tr style=\"text-align: right;\">\n",
       "      <th></th>\n",
       "      <th>A</th>\n",
       "      <th>B</th>\n",
       "      <th>C</th>\n",
       "      <th>D</th>\n",
       "    </tr>\n",
       "  </thead>\n",
       "  <tbody>\n",
       "    <tr>\n",
       "      <td>2019-03-02</td>\n",
       "      <td>-0.052545</td>\n",
       "      <td>0.343527</td>\n",
       "      <td>-1.144983</td>\n",
       "      <td>0.332703</td>\n",
       "    </tr>\n",
       "    <tr>\n",
       "      <td>2019-03-04</td>\n",
       "      <td>0.589705</td>\n",
       "      <td>-0.821430</td>\n",
       "      <td>-0.300550</td>\n",
       "      <td>-0.259729</td>\n",
       "    </tr>\n",
       "    <tr>\n",
       "      <td>2019-03-05</td>\n",
       "      <td>0.646581</td>\n",
       "      <td>0.558075</td>\n",
       "      <td>-1.698096</td>\n",
       "      <td>0.416643</td>\n",
       "    </tr>\n",
       "    <tr>\n",
       "      <td>2019-03-03</td>\n",
       "      <td>0.692046</td>\n",
       "      <td>0.910648</td>\n",
       "      <td>0.432863</td>\n",
       "      <td>0.007921</td>\n",
       "    </tr>\n",
       "    <tr>\n",
       "      <td>2019-03-06</td>\n",
       "      <td>0.922716</td>\n",
       "      <td>-0.619723</td>\n",
       "      <td>0.773386</td>\n",
       "      <td>0.428459</td>\n",
       "    </tr>\n",
       "    <tr>\n",
       "      <td>2019-03-01</td>\n",
       "      <td>0.945170</td>\n",
       "      <td>-0.511345</td>\n",
       "      <td>0.932395</td>\n",
       "      <td>-0.607492</td>\n",
       "    </tr>\n",
       "  </tbody>\n",
       "</table>\n",
       "</div>"
      ],
      "text/plain": [
       "                   A         B         C         D\n",
       "2019-03-02 -0.052545  0.343527 -1.144983  0.332703\n",
       "2019-03-04  0.589705 -0.821430 -0.300550 -0.259729\n",
       "2019-03-05  0.646581  0.558075 -1.698096  0.416643\n",
       "2019-03-03  0.692046  0.910648  0.432863  0.007921\n",
       "2019-03-06  0.922716 -0.619723  0.773386  0.428459\n",
       "2019-03-01  0.945170 -0.511345  0.932395 -0.607492"
      ]
     },
     "execution_count": 16,
     "metadata": {},
     "output_type": "execute_result"
    }
   ],
   "source": [
    "df.sort_values(by='A') # A열 기준으로 정렬"
   ]
  },
  {
   "cell_type": "code",
   "execution_count": 18,
   "metadata": {},
   "outputs": [
    {
     "data": {
      "text/html": [
       "<div>\n",
       "<style scoped>\n",
       "    .dataframe tbody tr th:only-of-type {\n",
       "        vertical-align: middle;\n",
       "    }\n",
       "\n",
       "    .dataframe tbody tr th {\n",
       "        vertical-align: top;\n",
       "    }\n",
       "\n",
       "    .dataframe thead th {\n",
       "        text-align: right;\n",
       "    }\n",
       "</style>\n",
       "<table border=\"1\" class=\"dataframe\">\n",
       "  <thead>\n",
       "    <tr style=\"text-align: right;\">\n",
       "      <th></th>\n",
       "      <th>A</th>\n",
       "      <th>B</th>\n",
       "      <th>C</th>\n",
       "      <th>D</th>\n",
       "    </tr>\n",
       "  </thead>\n",
       "  <tbody>\n",
       "    <tr>\n",
       "      <td>2019-03-01</td>\n",
       "      <td>0.945170</td>\n",
       "      <td>-0.511345</td>\n",
       "      <td>0.932395</td>\n",
       "      <td>-0.607492</td>\n",
       "    </tr>\n",
       "    <tr>\n",
       "      <td>2019-03-06</td>\n",
       "      <td>0.922716</td>\n",
       "      <td>-0.619723</td>\n",
       "      <td>0.773386</td>\n",
       "      <td>0.428459</td>\n",
       "    </tr>\n",
       "    <tr>\n",
       "      <td>2019-03-03</td>\n",
       "      <td>0.692046</td>\n",
       "      <td>0.910648</td>\n",
       "      <td>0.432863</td>\n",
       "      <td>0.007921</td>\n",
       "    </tr>\n",
       "    <tr>\n",
       "      <td>2019-03-05</td>\n",
       "      <td>0.646581</td>\n",
       "      <td>0.558075</td>\n",
       "      <td>-1.698096</td>\n",
       "      <td>0.416643</td>\n",
       "    </tr>\n",
       "    <tr>\n",
       "      <td>2019-03-04</td>\n",
       "      <td>0.589705</td>\n",
       "      <td>-0.821430</td>\n",
       "      <td>-0.300550</td>\n",
       "      <td>-0.259729</td>\n",
       "    </tr>\n",
       "    <tr>\n",
       "      <td>2019-03-02</td>\n",
       "      <td>-0.052545</td>\n",
       "      <td>0.343527</td>\n",
       "      <td>-1.144983</td>\n",
       "      <td>0.332703</td>\n",
       "    </tr>\n",
       "  </tbody>\n",
       "</table>\n",
       "</div>"
      ],
      "text/plain": [
       "                   A         B         C         D\n",
       "2019-03-01  0.945170 -0.511345  0.932395 -0.607492\n",
       "2019-03-06  0.922716 -0.619723  0.773386  0.428459\n",
       "2019-03-03  0.692046  0.910648  0.432863  0.007921\n",
       "2019-03-05  0.646581  0.558075 -1.698096  0.416643\n",
       "2019-03-04  0.589705 -0.821430 -0.300550 -0.259729\n",
       "2019-03-02 -0.052545  0.343527 -1.144983  0.332703"
      ]
     },
     "execution_count": 18,
     "metadata": {},
     "output_type": "execute_result"
    }
   ],
   "source": [
    "df.sort_values(by='A', ascending=False) # 내림차순"
   ]
  },
  {
   "cell_type": "code",
   "execution_count": 23,
   "metadata": {},
   "outputs": [
    {
     "data": {
      "text/plain": [
       "2019-03-01    0.945170\n",
       "2019-03-02   -0.052545\n",
       "2019-03-03    0.692046\n",
       "2019-03-04    0.589705\n",
       "2019-03-05    0.646581\n",
       "2019-03-06    0.922716\n",
       "Freq: D, Name: A, dtype: float64"
      ]
     },
     "execution_count": 23,
     "metadata": {},
     "output_type": "execute_result"
    }
   ],
   "source": [
    "df['A']"
   ]
  },
  {
   "cell_type": "code",
   "execution_count": 24,
   "metadata": {},
   "outputs": [
    {
     "data": {
      "text/plain": [
       "pandas.core.series.Series"
      ]
     },
     "execution_count": 24,
     "metadata": {},
     "output_type": "execute_result"
    }
   ],
   "source": [
    "type(df['A'])"
   ]
  },
  {
   "cell_type": "code",
   "execution_count": 29,
   "metadata": {},
   "outputs": [
    {
     "data": {
      "text/html": [
       "<div>\n",
       "<style scoped>\n",
       "    .dataframe tbody tr th:only-of-type {\n",
       "        vertical-align: middle;\n",
       "    }\n",
       "\n",
       "    .dataframe tbody tr th {\n",
       "        vertical-align: top;\n",
       "    }\n",
       "\n",
       "    .dataframe thead th {\n",
       "        text-align: right;\n",
       "    }\n",
       "</style>\n",
       "<table border=\"1\" class=\"dataframe\">\n",
       "  <thead>\n",
       "    <tr style=\"text-align: right;\">\n",
       "      <th></th>\n",
       "      <th>A</th>\n",
       "      <th>B</th>\n",
       "      <th>C</th>\n",
       "      <th>D</th>\n",
       "    </tr>\n",
       "  </thead>\n",
       "  <tbody>\n",
       "    <tr>\n",
       "      <td>2019-03-01</td>\n",
       "      <td>0.945170</td>\n",
       "      <td>-0.511345</td>\n",
       "      <td>0.932395</td>\n",
       "      <td>-0.607492</td>\n",
       "    </tr>\n",
       "    <tr>\n",
       "      <td>2019-03-02</td>\n",
       "      <td>-0.052545</td>\n",
       "      <td>0.343527</td>\n",
       "      <td>-1.144983</td>\n",
       "      <td>0.332703</td>\n",
       "    </tr>\n",
       "    <tr>\n",
       "      <td>2019-03-03</td>\n",
       "      <td>0.692046</td>\n",
       "      <td>0.910648</td>\n",
       "      <td>0.432863</td>\n",
       "      <td>0.007921</td>\n",
       "    </tr>\n",
       "  </tbody>\n",
       "</table>\n",
       "</div>"
      ],
      "text/plain": [
       "                   A         B         C         D\n",
       "2019-03-01  0.945170 -0.511345  0.932395 -0.607492\n",
       "2019-03-02 -0.052545  0.343527 -1.144983  0.332703\n",
       "2019-03-03  0.692046  0.910648  0.432863  0.007921"
      ]
     },
     "execution_count": 29,
     "metadata": {},
     "output_type": "execute_result"
    }
   ],
   "source": [
    "df[0:3]"
   ]
  },
  {
   "cell_type": "code",
   "execution_count": 35,
   "metadata": {},
   "outputs": [
    {
     "data": {
      "text/plain": [
       "A    0.945170\n",
       "B   -0.511345\n",
       "C    0.932395\n",
       "D   -0.607492\n",
       "Name: 2019-03-01 00:00:00, dtype: float64"
      ]
     },
     "execution_count": 35,
     "metadata": {},
     "output_type": "execute_result"
    }
   ],
   "source": [
    "df.loc['2019-03-01']"
   ]
  },
  {
   "cell_type": "code",
   "execution_count": 36,
   "metadata": {},
   "outputs": [
    {
     "data": {
      "text/plain": [
       "A    0.94517\n",
       "Name: 2019-03-01 00:00:00, dtype: float64"
      ]
     },
     "execution_count": 36,
     "metadata": {},
     "output_type": "execute_result"
    }
   ],
   "source": [
    "df.loc['2019-03-01',['A']]"
   ]
  },
  {
   "cell_type": "code",
   "execution_count": 37,
   "metadata": {},
   "outputs": [
    {
     "data": {
      "text/html": [
       "<div>\n",
       "<style scoped>\n",
       "    .dataframe tbody tr th:only-of-type {\n",
       "        vertical-align: middle;\n",
       "    }\n",
       "\n",
       "    .dataframe tbody tr th {\n",
       "        vertical-align: top;\n",
       "    }\n",
       "\n",
       "    .dataframe thead th {\n",
       "        text-align: right;\n",
       "    }\n",
       "</style>\n",
       "<table border=\"1\" class=\"dataframe\">\n",
       "  <thead>\n",
       "    <tr style=\"text-align: right;\">\n",
       "      <th></th>\n",
       "      <th>A</th>\n",
       "      <th>B</th>\n",
       "    </tr>\n",
       "  </thead>\n",
       "  <tbody>\n",
       "    <tr>\n",
       "      <td>2019-03-01</td>\n",
       "      <td>0.945170</td>\n",
       "      <td>-0.511345</td>\n",
       "    </tr>\n",
       "    <tr>\n",
       "      <td>2019-03-02</td>\n",
       "      <td>-0.052545</td>\n",
       "      <td>0.343527</td>\n",
       "    </tr>\n",
       "  </tbody>\n",
       "</table>\n",
       "</div>"
      ],
      "text/plain": [
       "                   A         B\n",
       "2019-03-01  0.945170 -0.511345\n",
       "2019-03-02 -0.052545  0.343527"
      ]
     },
     "execution_count": 37,
     "metadata": {},
     "output_type": "execute_result"
    }
   ],
   "source": [
    "df.loc['2019-03-01':'2019-03-02',['A','B']]"
   ]
  },
  {
   "cell_type": "code",
   "execution_count": 38,
   "metadata": {},
   "outputs": [
    {
     "data": {
      "text/html": [
       "<div>\n",
       "<style scoped>\n",
       "    .dataframe tbody tr th:only-of-type {\n",
       "        vertical-align: middle;\n",
       "    }\n",
       "\n",
       "    .dataframe tbody tr th {\n",
       "        vertical-align: top;\n",
       "    }\n",
       "\n",
       "    .dataframe thead th {\n",
       "        text-align: right;\n",
       "    }\n",
       "</style>\n",
       "<table border=\"1\" class=\"dataframe\">\n",
       "  <thead>\n",
       "    <tr style=\"text-align: right;\">\n",
       "      <th></th>\n",
       "      <th>A</th>\n",
       "      <th>B</th>\n",
       "    </tr>\n",
       "  </thead>\n",
       "  <tbody>\n",
       "    <tr>\n",
       "      <td>2019-03-01</td>\n",
       "      <td>0.945170</td>\n",
       "      <td>-0.511345</td>\n",
       "    </tr>\n",
       "    <tr>\n",
       "      <td>2019-03-02</td>\n",
       "      <td>-0.052545</td>\n",
       "      <td>0.343527</td>\n",
       "    </tr>\n",
       "    <tr>\n",
       "      <td>2019-03-03</td>\n",
       "      <td>0.692046</td>\n",
       "      <td>0.910648</td>\n",
       "    </tr>\n",
       "    <tr>\n",
       "      <td>2019-03-04</td>\n",
       "      <td>0.589705</td>\n",
       "      <td>-0.821430</td>\n",
       "    </tr>\n",
       "    <tr>\n",
       "      <td>2019-03-05</td>\n",
       "      <td>0.646581</td>\n",
       "      <td>0.558075</td>\n",
       "    </tr>\n",
       "    <tr>\n",
       "      <td>2019-03-06</td>\n",
       "      <td>0.922716</td>\n",
       "      <td>-0.619723</td>\n",
       "    </tr>\n",
       "  </tbody>\n",
       "</table>\n",
       "</div>"
      ],
      "text/plain": [
       "                   A         B\n",
       "2019-03-01  0.945170 -0.511345\n",
       "2019-03-02 -0.052545  0.343527\n",
       "2019-03-03  0.692046  0.910648\n",
       "2019-03-04  0.589705 -0.821430\n",
       "2019-03-05  0.646581  0.558075\n",
       "2019-03-06  0.922716 -0.619723"
      ]
     },
     "execution_count": 38,
     "metadata": {},
     "output_type": "execute_result"
    }
   ],
   "source": [
    "df.loc[:,['A','B']]"
   ]
  },
  {
   "cell_type": "code",
   "execution_count": 39,
   "metadata": {},
   "outputs": [
    {
     "data": {
      "text/html": [
       "<div>\n",
       "<style scoped>\n",
       "    .dataframe tbody tr th:only-of-type {\n",
       "        vertical-align: middle;\n",
       "    }\n",
       "\n",
       "    .dataframe tbody tr th {\n",
       "        vertical-align: top;\n",
       "    }\n",
       "\n",
       "    .dataframe thead th {\n",
       "        text-align: right;\n",
       "    }\n",
       "</style>\n",
       "<table border=\"1\" class=\"dataframe\">\n",
       "  <thead>\n",
       "    <tr style=\"text-align: right;\">\n",
       "      <th></th>\n",
       "      <th>A</th>\n",
       "      <th>B</th>\n",
       "      <th>C</th>\n",
       "      <th>D</th>\n",
       "    </tr>\n",
       "  </thead>\n",
       "  <tbody>\n",
       "    <tr>\n",
       "      <td>2019-03-01</td>\n",
       "      <td>0.945170</td>\n",
       "      <td>-0.511345</td>\n",
       "      <td>0.932395</td>\n",
       "      <td>-0.607492</td>\n",
       "    </tr>\n",
       "    <tr>\n",
       "      <td>2019-03-02</td>\n",
       "      <td>-0.052545</td>\n",
       "      <td>0.343527</td>\n",
       "      <td>-1.144983</td>\n",
       "      <td>0.332703</td>\n",
       "    </tr>\n",
       "  </tbody>\n",
       "</table>\n",
       "</div>"
      ],
      "text/plain": [
       "                   A         B         C         D\n",
       "2019-03-01  0.945170 -0.511345  0.932395 -0.607492\n",
       "2019-03-02 -0.052545  0.343527 -1.144983  0.332703"
      ]
     },
     "execution_count": 39,
     "metadata": {},
     "output_type": "execute_result"
    }
   ],
   "source": [
    "df.iloc[0:2]"
   ]
  },
  {
   "cell_type": "code",
   "execution_count": 40,
   "metadata": {},
   "outputs": [
    {
     "data": {
      "text/html": [
       "<div>\n",
       "<style scoped>\n",
       "    .dataframe tbody tr th:only-of-type {\n",
       "        vertical-align: middle;\n",
       "    }\n",
       "\n",
       "    .dataframe tbody tr th {\n",
       "        vertical-align: top;\n",
       "    }\n",
       "\n",
       "    .dataframe thead th {\n",
       "        text-align: right;\n",
       "    }\n",
       "</style>\n",
       "<table border=\"1\" class=\"dataframe\">\n",
       "  <thead>\n",
       "    <tr style=\"text-align: right;\">\n",
       "      <th></th>\n",
       "      <th>A</th>\n",
       "      <th>B</th>\n",
       "    </tr>\n",
       "  </thead>\n",
       "  <tbody>\n",
       "    <tr>\n",
       "      <td>2019-03-01</td>\n",
       "      <td>0.945170</td>\n",
       "      <td>-0.511345</td>\n",
       "    </tr>\n",
       "    <tr>\n",
       "      <td>2019-03-02</td>\n",
       "      <td>-0.052545</td>\n",
       "      <td>0.343527</td>\n",
       "    </tr>\n",
       "  </tbody>\n",
       "</table>\n",
       "</div>"
      ],
      "text/plain": [
       "                   A         B\n",
       "2019-03-01  0.945170 -0.511345\n",
       "2019-03-02 -0.052545  0.343527"
      ]
     },
     "execution_count": 40,
     "metadata": {},
     "output_type": "execute_result"
    }
   ],
   "source": [
    "df.iloc[0:2,0:2]"
   ]
  },
  {
   "cell_type": "code",
   "execution_count": 41,
   "metadata": {},
   "outputs": [
    {
     "data": {
      "text/html": [
       "<div>\n",
       "<style scoped>\n",
       "    .dataframe tbody tr th:only-of-type {\n",
       "        vertical-align: middle;\n",
       "    }\n",
       "\n",
       "    .dataframe tbody tr th {\n",
       "        vertical-align: top;\n",
       "    }\n",
       "\n",
       "    .dataframe thead th {\n",
       "        text-align: right;\n",
       "    }\n",
       "</style>\n",
       "<table border=\"1\" class=\"dataframe\">\n",
       "  <thead>\n",
       "    <tr style=\"text-align: right;\">\n",
       "      <th></th>\n",
       "      <th>A</th>\n",
       "      <th>B</th>\n",
       "    </tr>\n",
       "  </thead>\n",
       "  <tbody>\n",
       "    <tr>\n",
       "      <td>2019-03-01</td>\n",
       "      <td>0.945170</td>\n",
       "      <td>-0.511345</td>\n",
       "    </tr>\n",
       "    <tr>\n",
       "      <td>2019-03-02</td>\n",
       "      <td>-0.052545</td>\n",
       "      <td>0.343527</td>\n",
       "    </tr>\n",
       "    <tr>\n",
       "      <td>2019-03-04</td>\n",
       "      <td>0.589705</td>\n",
       "      <td>-0.821430</td>\n",
       "    </tr>\n",
       "  </tbody>\n",
       "</table>\n",
       "</div>"
      ],
      "text/plain": [
       "                   A         B\n",
       "2019-03-01  0.945170 -0.511345\n",
       "2019-03-02 -0.052545  0.343527\n",
       "2019-03-04  0.589705 -0.821430"
      ]
     },
     "execution_count": 41,
     "metadata": {},
     "output_type": "execute_result"
    }
   ],
   "source": [
    "df.iloc[[0,1,3],0:2]"
   ]
  },
  {
   "cell_type": "code",
   "execution_count": 42,
   "metadata": {},
   "outputs": [
    {
     "data": {
      "text/html": [
       "<div>\n",
       "<style scoped>\n",
       "    .dataframe tbody tr th:only-of-type {\n",
       "        vertical-align: middle;\n",
       "    }\n",
       "\n",
       "    .dataframe tbody tr th {\n",
       "        vertical-align: top;\n",
       "    }\n",
       "\n",
       "    .dataframe thead th {\n",
       "        text-align: right;\n",
       "    }\n",
       "</style>\n",
       "<table border=\"1\" class=\"dataframe\">\n",
       "  <thead>\n",
       "    <tr style=\"text-align: right;\">\n",
       "      <th></th>\n",
       "      <th>A</th>\n",
       "      <th>B</th>\n",
       "      <th>C</th>\n",
       "      <th>D</th>\n",
       "    </tr>\n",
       "  </thead>\n",
       "  <tbody>\n",
       "    <tr>\n",
       "      <td>2019-03-01</td>\n",
       "      <td>0.945170</td>\n",
       "      <td>-0.511345</td>\n",
       "      <td>0.932395</td>\n",
       "      <td>-0.607492</td>\n",
       "    </tr>\n",
       "    <tr>\n",
       "      <td>2019-03-02</td>\n",
       "      <td>-0.052545</td>\n",
       "      <td>0.343527</td>\n",
       "      <td>-1.144983</td>\n",
       "      <td>0.332703</td>\n",
       "    </tr>\n",
       "    <tr>\n",
       "      <td>2019-03-04</td>\n",
       "      <td>0.589705</td>\n",
       "      <td>-0.821430</td>\n",
       "      <td>-0.300550</td>\n",
       "      <td>-0.259729</td>\n",
       "    </tr>\n",
       "  </tbody>\n",
       "</table>\n",
       "</div>"
      ],
      "text/plain": [
       "                   A         B         C         D\n",
       "2019-03-01  0.945170 -0.511345  0.932395 -0.607492\n",
       "2019-03-02 -0.052545  0.343527 -1.144983  0.332703\n",
       "2019-03-04  0.589705 -0.821430 -0.300550 -0.259729"
      ]
     },
     "execution_count": 42,
     "metadata": {},
     "output_type": "execute_result"
    }
   ],
   "source": [
    "df.iloc[[0,1,3]]"
   ]
  },
  {
   "cell_type": "code",
   "execution_count": 43,
   "metadata": {},
   "outputs": [
    {
     "data": {
      "text/plain": [
       "2019-03-01     True\n",
       "2019-03-02    False\n",
       "2019-03-03     True\n",
       "2019-03-04     True\n",
       "2019-03-05     True\n",
       "2019-03-06     True\n",
       "Freq: D, Name: A, dtype: bool"
      ]
     },
     "execution_count": 43,
     "metadata": {},
     "output_type": "execute_result"
    }
   ],
   "source": [
    "df['A']>0"
   ]
  },
  {
   "cell_type": "code",
   "execution_count": 44,
   "metadata": {},
   "outputs": [
    {
     "data": {
      "text/html": [
       "<div>\n",
       "<style scoped>\n",
       "    .dataframe tbody tr th:only-of-type {\n",
       "        vertical-align: middle;\n",
       "    }\n",
       "\n",
       "    .dataframe tbody tr th {\n",
       "        vertical-align: top;\n",
       "    }\n",
       "\n",
       "    .dataframe thead th {\n",
       "        text-align: right;\n",
       "    }\n",
       "</style>\n",
       "<table border=\"1\" class=\"dataframe\">\n",
       "  <thead>\n",
       "    <tr style=\"text-align: right;\">\n",
       "      <th></th>\n",
       "      <th>A</th>\n",
       "      <th>B</th>\n",
       "      <th>C</th>\n",
       "      <th>D</th>\n",
       "    </tr>\n",
       "  </thead>\n",
       "  <tbody>\n",
       "    <tr>\n",
       "      <td>2019-03-01</td>\n",
       "      <td>0.945170</td>\n",
       "      <td>-0.511345</td>\n",
       "      <td>0.932395</td>\n",
       "      <td>-0.607492</td>\n",
       "    </tr>\n",
       "    <tr>\n",
       "      <td>2019-03-03</td>\n",
       "      <td>0.692046</td>\n",
       "      <td>0.910648</td>\n",
       "      <td>0.432863</td>\n",
       "      <td>0.007921</td>\n",
       "    </tr>\n",
       "    <tr>\n",
       "      <td>2019-03-04</td>\n",
       "      <td>0.589705</td>\n",
       "      <td>-0.821430</td>\n",
       "      <td>-0.300550</td>\n",
       "      <td>-0.259729</td>\n",
       "    </tr>\n",
       "    <tr>\n",
       "      <td>2019-03-05</td>\n",
       "      <td>0.646581</td>\n",
       "      <td>0.558075</td>\n",
       "      <td>-1.698096</td>\n",
       "      <td>0.416643</td>\n",
       "    </tr>\n",
       "    <tr>\n",
       "      <td>2019-03-06</td>\n",
       "      <td>0.922716</td>\n",
       "      <td>-0.619723</td>\n",
       "      <td>0.773386</td>\n",
       "      <td>0.428459</td>\n",
       "    </tr>\n",
       "  </tbody>\n",
       "</table>\n",
       "</div>"
      ],
      "text/plain": [
       "                   A         B         C         D\n",
       "2019-03-01  0.945170 -0.511345  0.932395 -0.607492\n",
       "2019-03-03  0.692046  0.910648  0.432863  0.007921\n",
       "2019-03-04  0.589705 -0.821430 -0.300550 -0.259729\n",
       "2019-03-05  0.646581  0.558075 -1.698096  0.416643\n",
       "2019-03-06  0.922716 -0.619723  0.773386  0.428459"
      ]
     },
     "execution_count": 44,
     "metadata": {},
     "output_type": "execute_result"
    }
   ],
   "source": [
    "df[df['A']>0]"
   ]
  },
  {
   "cell_type": "code",
   "execution_count": 45,
   "metadata": {},
   "outputs": [
    {
     "data": {
      "text/html": [
       "<div>\n",
       "<style scoped>\n",
       "    .dataframe tbody tr th:only-of-type {\n",
       "        vertical-align: middle;\n",
       "    }\n",
       "\n",
       "    .dataframe tbody tr th {\n",
       "        vertical-align: top;\n",
       "    }\n",
       "\n",
       "    .dataframe thead th {\n",
       "        text-align: right;\n",
       "    }\n",
       "</style>\n",
       "<table border=\"1\" class=\"dataframe\">\n",
       "  <thead>\n",
       "    <tr style=\"text-align: right;\">\n",
       "      <th></th>\n",
       "      <th>A</th>\n",
       "      <th>B</th>\n",
       "      <th>C</th>\n",
       "      <th>D</th>\n",
       "    </tr>\n",
       "  </thead>\n",
       "  <tbody>\n",
       "    <tr>\n",
       "      <td>2019-03-01</td>\n",
       "      <td>True</td>\n",
       "      <td>False</td>\n",
       "      <td>True</td>\n",
       "      <td>False</td>\n",
       "    </tr>\n",
       "    <tr>\n",
       "      <td>2019-03-02</td>\n",
       "      <td>False</td>\n",
       "      <td>True</td>\n",
       "      <td>False</td>\n",
       "      <td>True</td>\n",
       "    </tr>\n",
       "    <tr>\n",
       "      <td>2019-03-03</td>\n",
       "      <td>True</td>\n",
       "      <td>True</td>\n",
       "      <td>True</td>\n",
       "      <td>True</td>\n",
       "    </tr>\n",
       "    <tr>\n",
       "      <td>2019-03-04</td>\n",
       "      <td>True</td>\n",
       "      <td>False</td>\n",
       "      <td>False</td>\n",
       "      <td>False</td>\n",
       "    </tr>\n",
       "    <tr>\n",
       "      <td>2019-03-05</td>\n",
       "      <td>True</td>\n",
       "      <td>True</td>\n",
       "      <td>False</td>\n",
       "      <td>True</td>\n",
       "    </tr>\n",
       "    <tr>\n",
       "      <td>2019-03-06</td>\n",
       "      <td>True</td>\n",
       "      <td>False</td>\n",
       "      <td>True</td>\n",
       "      <td>True</td>\n",
       "    </tr>\n",
       "  </tbody>\n",
       "</table>\n",
       "</div>"
      ],
      "text/plain": [
       "                A      B      C      D\n",
       "2019-03-01   True  False   True  False\n",
       "2019-03-02  False   True  False   True\n",
       "2019-03-03   True   True   True   True\n",
       "2019-03-04   True  False  False  False\n",
       "2019-03-05   True   True  False   True\n",
       "2019-03-06   True  False   True   True"
      ]
     },
     "execution_count": 45,
     "metadata": {},
     "output_type": "execute_result"
    }
   ],
   "source": [
    "df>0"
   ]
  },
  {
   "cell_type": "code",
   "execution_count": 46,
   "metadata": {},
   "outputs": [
    {
     "data": {
      "text/html": [
       "<div>\n",
       "<style scoped>\n",
       "    .dataframe tbody tr th:only-of-type {\n",
       "        vertical-align: middle;\n",
       "    }\n",
       "\n",
       "    .dataframe tbody tr th {\n",
       "        vertical-align: top;\n",
       "    }\n",
       "\n",
       "    .dataframe thead th {\n",
       "        text-align: right;\n",
       "    }\n",
       "</style>\n",
       "<table border=\"1\" class=\"dataframe\">\n",
       "  <thead>\n",
       "    <tr style=\"text-align: right;\">\n",
       "      <th></th>\n",
       "      <th>A</th>\n",
       "      <th>B</th>\n",
       "      <th>C</th>\n",
       "      <th>D</th>\n",
       "    </tr>\n",
       "  </thead>\n",
       "  <tbody>\n",
       "    <tr>\n",
       "      <td>2019-03-01</td>\n",
       "      <td>0.945170</td>\n",
       "      <td>NaN</td>\n",
       "      <td>0.932395</td>\n",
       "      <td>NaN</td>\n",
       "    </tr>\n",
       "    <tr>\n",
       "      <td>2019-03-02</td>\n",
       "      <td>NaN</td>\n",
       "      <td>0.343527</td>\n",
       "      <td>NaN</td>\n",
       "      <td>0.332703</td>\n",
       "    </tr>\n",
       "    <tr>\n",
       "      <td>2019-03-03</td>\n",
       "      <td>0.692046</td>\n",
       "      <td>0.910648</td>\n",
       "      <td>0.432863</td>\n",
       "      <td>0.007921</td>\n",
       "    </tr>\n",
       "    <tr>\n",
       "      <td>2019-03-04</td>\n",
       "      <td>0.589705</td>\n",
       "      <td>NaN</td>\n",
       "      <td>NaN</td>\n",
       "      <td>NaN</td>\n",
       "    </tr>\n",
       "    <tr>\n",
       "      <td>2019-03-05</td>\n",
       "      <td>0.646581</td>\n",
       "      <td>0.558075</td>\n",
       "      <td>NaN</td>\n",
       "      <td>0.416643</td>\n",
       "    </tr>\n",
       "    <tr>\n",
       "      <td>2019-03-06</td>\n",
       "      <td>0.922716</td>\n",
       "      <td>NaN</td>\n",
       "      <td>0.773386</td>\n",
       "      <td>0.428459</td>\n",
       "    </tr>\n",
       "  </tbody>\n",
       "</table>\n",
       "</div>"
      ],
      "text/plain": [
       "                   A         B         C         D\n",
       "2019-03-01  0.945170       NaN  0.932395       NaN\n",
       "2019-03-02       NaN  0.343527       NaN  0.332703\n",
       "2019-03-03  0.692046  0.910648  0.432863  0.007921\n",
       "2019-03-04  0.589705       NaN       NaN       NaN\n",
       "2019-03-05  0.646581  0.558075       NaN  0.416643\n",
       "2019-03-06  0.922716       NaN  0.773386  0.428459"
      ]
     },
     "execution_count": 46,
     "metadata": {},
     "output_type": "execute_result"
    }
   ],
   "source": [
    "df[df>0]"
   ]
  },
  {
   "cell_type": "code",
   "execution_count": 47,
   "metadata": {},
   "outputs": [
    {
     "data": {
      "text/html": [
       "<div>\n",
       "<style scoped>\n",
       "    .dataframe tbody tr th:only-of-type {\n",
       "        vertical-align: middle;\n",
       "    }\n",
       "\n",
       "    .dataframe tbody tr th {\n",
       "        vertical-align: top;\n",
       "    }\n",
       "\n",
       "    .dataframe thead th {\n",
       "        text-align: right;\n",
       "    }\n",
       "</style>\n",
       "<table border=\"1\" class=\"dataframe\">\n",
       "  <thead>\n",
       "    <tr style=\"text-align: right;\">\n",
       "      <th></th>\n",
       "      <th>A</th>\n",
       "      <th>C</th>\n",
       "      <th>D</th>\n",
       "      <th>B</th>\n",
       "    </tr>\n",
       "  </thead>\n",
       "  <tbody>\n",
       "    <tr>\n",
       "      <td>2019-03-01</td>\n",
       "      <td>0.945170</td>\n",
       "      <td>0.932395</td>\n",
       "      <td>-0.607492</td>\n",
       "      <td>-0.511345</td>\n",
       "    </tr>\n",
       "    <tr>\n",
       "      <td>2019-03-02</td>\n",
       "      <td>-0.052545</td>\n",
       "      <td>-1.144983</td>\n",
       "      <td>0.332703</td>\n",
       "      <td>0.343527</td>\n",
       "    </tr>\n",
       "    <tr>\n",
       "      <td>2019-03-03</td>\n",
       "      <td>0.692046</td>\n",
       "      <td>0.432863</td>\n",
       "      <td>0.007921</td>\n",
       "      <td>0.910648</td>\n",
       "    </tr>\n",
       "    <tr>\n",
       "      <td>2019-03-04</td>\n",
       "      <td>0.589705</td>\n",
       "      <td>-0.300550</td>\n",
       "      <td>-0.259729</td>\n",
       "      <td>-0.821430</td>\n",
       "    </tr>\n",
       "    <tr>\n",
       "      <td>2019-03-05</td>\n",
       "      <td>0.646581</td>\n",
       "      <td>-1.698096</td>\n",
       "      <td>0.416643</td>\n",
       "      <td>0.558075</td>\n",
       "    </tr>\n",
       "    <tr>\n",
       "      <td>2019-03-06</td>\n",
       "      <td>0.922716</td>\n",
       "      <td>0.773386</td>\n",
       "      <td>0.428459</td>\n",
       "      <td>-0.619723</td>\n",
       "    </tr>\n",
       "  </tbody>\n",
       "</table>\n",
       "</div>"
      ],
      "text/plain": [
       "                   A         C         D         B\n",
       "2019-03-01  0.945170  0.932395 -0.607492 -0.511345\n",
       "2019-03-02 -0.052545 -1.144983  0.332703  0.343527\n",
       "2019-03-03  0.692046  0.432863  0.007921  0.910648\n",
       "2019-03-04  0.589705 -0.300550 -0.259729 -0.821430\n",
       "2019-03-05  0.646581 -1.698096  0.416643  0.558075\n",
       "2019-03-06  0.922716  0.773386  0.428459 -0.619723"
      ]
     },
     "execution_count": 47,
     "metadata": {},
     "output_type": "execute_result"
    }
   ],
   "source": [
    "df2 = pd.DataFrame(df, columns=['A','C','D','B'])\n",
    "df2"
   ]
  },
  {
   "cell_type": "code",
   "execution_count": 48,
   "metadata": {},
   "outputs": [
    {
     "data": {
      "text/html": [
       "<div>\n",
       "<style scoped>\n",
       "    .dataframe tbody tr th:only-of-type {\n",
       "        vertical-align: middle;\n",
       "    }\n",
       "\n",
       "    .dataframe tbody tr th {\n",
       "        vertical-align: top;\n",
       "    }\n",
       "\n",
       "    .dataframe thead th {\n",
       "        text-align: right;\n",
       "    }\n",
       "</style>\n",
       "<table border=\"1\" class=\"dataframe\">\n",
       "  <thead>\n",
       "    <tr style=\"text-align: right;\">\n",
       "      <th></th>\n",
       "      <th>A</th>\n",
       "      <th>B</th>\n",
       "      <th>C</th>\n",
       "      <th>D</th>\n",
       "      <th>E</th>\n",
       "    </tr>\n",
       "  </thead>\n",
       "  <tbody>\n",
       "    <tr>\n",
       "      <td>2019-03-01</td>\n",
       "      <td>0.945170</td>\n",
       "      <td>-0.511345</td>\n",
       "      <td>0.932395</td>\n",
       "      <td>-0.607492</td>\n",
       "      <td>NaN</td>\n",
       "    </tr>\n",
       "    <tr>\n",
       "      <td>2019-03-02</td>\n",
       "      <td>-0.052545</td>\n",
       "      <td>0.343527</td>\n",
       "      <td>-1.144983</td>\n",
       "      <td>0.332703</td>\n",
       "      <td>NaN</td>\n",
       "    </tr>\n",
       "    <tr>\n",
       "      <td>2019-03-03</td>\n",
       "      <td>0.692046</td>\n",
       "      <td>0.910648</td>\n",
       "      <td>0.432863</td>\n",
       "      <td>0.007921</td>\n",
       "      <td>NaN</td>\n",
       "    </tr>\n",
       "    <tr>\n",
       "      <td>2019-03-04</td>\n",
       "      <td>0.589705</td>\n",
       "      <td>-0.821430</td>\n",
       "      <td>-0.300550</td>\n",
       "      <td>-0.259729</td>\n",
       "      <td>NaN</td>\n",
       "    </tr>\n",
       "    <tr>\n",
       "      <td>2019-03-05</td>\n",
       "      <td>0.646581</td>\n",
       "      <td>0.558075</td>\n",
       "      <td>-1.698096</td>\n",
       "      <td>0.416643</td>\n",
       "      <td>NaN</td>\n",
       "    </tr>\n",
       "    <tr>\n",
       "      <td>2019-03-06</td>\n",
       "      <td>0.922716</td>\n",
       "      <td>-0.619723</td>\n",
       "      <td>0.773386</td>\n",
       "      <td>0.428459</td>\n",
       "      <td>NaN</td>\n",
       "    </tr>\n",
       "  </tbody>\n",
       "</table>\n",
       "</div>"
      ],
      "text/plain": [
       "                   A         B         C         D   E\n",
       "2019-03-01  0.945170 -0.511345  0.932395 -0.607492 NaN\n",
       "2019-03-02 -0.052545  0.343527 -1.144983  0.332703 NaN\n",
       "2019-03-03  0.692046  0.910648  0.432863  0.007921 NaN\n",
       "2019-03-04  0.589705 -0.821430 -0.300550 -0.259729 NaN\n",
       "2019-03-05  0.646581  0.558075 -1.698096  0.416643 NaN\n",
       "2019-03-06  0.922716 -0.619723  0.773386  0.428459 NaN"
      ]
     },
     "execution_count": 48,
     "metadata": {},
     "output_type": "execute_result"
    }
   ],
   "source": [
    "df['E'] = np.nan\n",
    "df"
   ]
  },
  {
   "cell_type": "code",
   "execution_count": 49,
   "metadata": {},
   "outputs": [
    {
     "data": {
      "text/html": [
       "<div>\n",
       "<style scoped>\n",
       "    .dataframe tbody tr th:only-of-type {\n",
       "        vertical-align: middle;\n",
       "    }\n",
       "\n",
       "    .dataframe tbody tr th {\n",
       "        vertical-align: top;\n",
       "    }\n",
       "\n",
       "    .dataframe thead th {\n",
       "        text-align: right;\n",
       "    }\n",
       "</style>\n",
       "<table border=\"1\" class=\"dataframe\">\n",
       "  <thead>\n",
       "    <tr style=\"text-align: right;\">\n",
       "      <th></th>\n",
       "      <th>A</th>\n",
       "      <th>B</th>\n",
       "      <th>C</th>\n",
       "      <th>D</th>\n",
       "      <th>E</th>\n",
       "    </tr>\n",
       "  </thead>\n",
       "  <tbody>\n",
       "    <tr>\n",
       "      <td>2019-03-01</td>\n",
       "      <td>0.945170</td>\n",
       "      <td>-0.511345</td>\n",
       "      <td>0.932395</td>\n",
       "      <td>-0.607492</td>\n",
       "      <td>NaN</td>\n",
       "    </tr>\n",
       "    <tr>\n",
       "      <td>2019-03-02</td>\n",
       "      <td>-0.052545</td>\n",
       "      <td>0.343527</td>\n",
       "      <td>-1.144983</td>\n",
       "      <td>0.332703</td>\n",
       "      <td>2.0</td>\n",
       "    </tr>\n",
       "    <tr>\n",
       "      <td>2019-03-03</td>\n",
       "      <td>0.692046</td>\n",
       "      <td>0.910648</td>\n",
       "      <td>0.432863</td>\n",
       "      <td>0.007921</td>\n",
       "      <td>NaN</td>\n",
       "    </tr>\n",
       "    <tr>\n",
       "      <td>2019-03-04</td>\n",
       "      <td>0.589705</td>\n",
       "      <td>-0.821430</td>\n",
       "      <td>-0.300550</td>\n",
       "      <td>-0.259729</td>\n",
       "      <td>NaN</td>\n",
       "    </tr>\n",
       "    <tr>\n",
       "      <td>2019-03-05</td>\n",
       "      <td>0.646581</td>\n",
       "      <td>0.558075</td>\n",
       "      <td>-1.698096</td>\n",
       "      <td>0.416643</td>\n",
       "      <td>NaN</td>\n",
       "    </tr>\n",
       "    <tr>\n",
       "      <td>2019-03-06</td>\n",
       "      <td>0.922716</td>\n",
       "      <td>-0.619723</td>\n",
       "      <td>0.773386</td>\n",
       "      <td>0.428459</td>\n",
       "      <td>NaN</td>\n",
       "    </tr>\n",
       "  </tbody>\n",
       "</table>\n",
       "</div>"
      ],
      "text/plain": [
       "                   A         B         C         D    E\n",
       "2019-03-01  0.945170 -0.511345  0.932395 -0.607492  NaN\n",
       "2019-03-02 -0.052545  0.343527 -1.144983  0.332703  2.0\n",
       "2019-03-03  0.692046  0.910648  0.432863  0.007921  NaN\n",
       "2019-03-04  0.589705 -0.821430 -0.300550 -0.259729  NaN\n",
       "2019-03-05  0.646581  0.558075 -1.698096  0.416643  NaN\n",
       "2019-03-06  0.922716 -0.619723  0.773386  0.428459  NaN"
      ]
     },
     "execution_count": 49,
     "metadata": {},
     "output_type": "execute_result"
    }
   ],
   "source": [
    "df.loc['2019-03-02', ['E']] = 2\n",
    "df"
   ]
  },
  {
   "cell_type": "code",
   "execution_count": 50,
   "metadata": {},
   "outputs": [
    {
     "data": {
      "text/html": [
       "<div>\n",
       "<style scoped>\n",
       "    .dataframe tbody tr th:only-of-type {\n",
       "        vertical-align: middle;\n",
       "    }\n",
       "\n",
       "    .dataframe tbody tr th {\n",
       "        vertical-align: top;\n",
       "    }\n",
       "\n",
       "    .dataframe thead th {\n",
       "        text-align: right;\n",
       "    }\n",
       "</style>\n",
       "<table border=\"1\" class=\"dataframe\">\n",
       "  <thead>\n",
       "    <tr style=\"text-align: right;\">\n",
       "      <th></th>\n",
       "      <th>A</th>\n",
       "      <th>B</th>\n",
       "      <th>C</th>\n",
       "      <th>D</th>\n",
       "      <th>E</th>\n",
       "      <th>F</th>\n",
       "    </tr>\n",
       "  </thead>\n",
       "  <tbody>\n",
       "    <tr>\n",
       "      <td>2019-03-01</td>\n",
       "      <td>0.945170</td>\n",
       "      <td>-0.511345</td>\n",
       "      <td>0.932395</td>\n",
       "      <td>-0.607492</td>\n",
       "      <td>NaN</td>\n",
       "      <td>0.433825</td>\n",
       "    </tr>\n",
       "    <tr>\n",
       "      <td>2019-03-02</td>\n",
       "      <td>-0.052545</td>\n",
       "      <td>0.343527</td>\n",
       "      <td>-1.144983</td>\n",
       "      <td>0.332703</td>\n",
       "      <td>2.0</td>\n",
       "      <td>0.290982</td>\n",
       "    </tr>\n",
       "    <tr>\n",
       "      <td>2019-03-03</td>\n",
       "      <td>0.692046</td>\n",
       "      <td>0.910648</td>\n",
       "      <td>0.432863</td>\n",
       "      <td>0.007921</td>\n",
       "      <td>NaN</td>\n",
       "      <td>1.602694</td>\n",
       "    </tr>\n",
       "    <tr>\n",
       "      <td>2019-03-04</td>\n",
       "      <td>0.589705</td>\n",
       "      <td>-0.821430</td>\n",
       "      <td>-0.300550</td>\n",
       "      <td>-0.259729</td>\n",
       "      <td>NaN</td>\n",
       "      <td>-0.231725</td>\n",
       "    </tr>\n",
       "    <tr>\n",
       "      <td>2019-03-05</td>\n",
       "      <td>0.646581</td>\n",
       "      <td>0.558075</td>\n",
       "      <td>-1.698096</td>\n",
       "      <td>0.416643</td>\n",
       "      <td>NaN</td>\n",
       "      <td>1.204656</td>\n",
       "    </tr>\n",
       "    <tr>\n",
       "      <td>2019-03-06</td>\n",
       "      <td>0.922716</td>\n",
       "      <td>-0.619723</td>\n",
       "      <td>0.773386</td>\n",
       "      <td>0.428459</td>\n",
       "      <td>NaN</td>\n",
       "      <td>0.302993</td>\n",
       "    </tr>\n",
       "  </tbody>\n",
       "</table>\n",
       "</div>"
      ],
      "text/plain": [
       "                   A         B         C         D    E         F\n",
       "2019-03-01  0.945170 -0.511345  0.932395 -0.607492  NaN  0.433825\n",
       "2019-03-02 -0.052545  0.343527 -1.144983  0.332703  2.0  0.290982\n",
       "2019-03-03  0.692046  0.910648  0.432863  0.007921  NaN  1.602694\n",
       "2019-03-04  0.589705 -0.821430 -0.300550 -0.259729  NaN -0.231725\n",
       "2019-03-05  0.646581  0.558075 -1.698096  0.416643  NaN  1.204656\n",
       "2019-03-06  0.922716 -0.619723  0.773386  0.428459  NaN  0.302993"
      ]
     },
     "execution_count": 50,
     "metadata": {},
     "output_type": "execute_result"
    }
   ],
   "source": [
    "df['F'] = df['A'] + df['B'] # 열추가 된다.\n",
    "df"
   ]
  },
  {
   "cell_type": "markdown",
   "metadata": {},
   "source": [
    "## 서울시 청소년들의 스트레스 데이터를 읽어보자"
   ]
  },
  {
   "cell_type": "code",
   "execution_count": 52,
   "metadata": {},
   "outputs": [
    {
     "data": {
      "text/html": [
       "<div>\n",
       "<style scoped>\n",
       "    .dataframe tbody tr th:only-of-type {\n",
       "        vertical-align: middle;\n",
       "    }\n",
       "\n",
       "    .dataframe tbody tr th {\n",
       "        vertical-align: top;\n",
       "    }\n",
       "\n",
       "    .dataframe thead th {\n",
       "        text-align: right;\n",
       "    }\n",
       "</style>\n",
       "<table border=\"1\" class=\"dataframe\">\n",
       "  <thead>\n",
       "    <tr style=\"text-align: right;\">\n",
       "      <th></th>\n",
       "      <th>기간</th>\n",
       "      <th>구분</th>\n",
       "      <th>스트레스 인지율</th>\n",
       "      <th>스트레스 인지율.1</th>\n",
       "      <th>스트레스 인지율.2</th>\n",
       "      <th>우울감 경험률</th>\n",
       "      <th>우울감 경험률.1</th>\n",
       "      <th>우울감 경험률.2</th>\n",
       "      <th>자살 생각률</th>\n",
       "      <th>자살 생각률.1</th>\n",
       "      <th>자살 생각률.2</th>\n",
       "    </tr>\n",
       "  </thead>\n",
       "  <tbody>\n",
       "    <tr>\n",
       "      <td>0</td>\n",
       "      <td>기간</td>\n",
       "      <td>구분</td>\n",
       "      <td>전체</td>\n",
       "      <td>남학생</td>\n",
       "      <td>여학생</td>\n",
       "      <td>전체</td>\n",
       "      <td>남학생</td>\n",
       "      <td>여학생</td>\n",
       "      <td>전체</td>\n",
       "      <td>남학생</td>\n",
       "      <td>여학생</td>\n",
       "    </tr>\n",
       "    <tr>\n",
       "      <td>1</td>\n",
       "      <td>2018</td>\n",
       "      <td>구분</td>\n",
       "      <td>42.7</td>\n",
       "      <td>34.5</td>\n",
       "      <td>51.5</td>\n",
       "      <td>29.6</td>\n",
       "      <td>24.2</td>\n",
       "      <td>35.4</td>\n",
       "      <td>15.4</td>\n",
       "      <td>11.8</td>\n",
       "      <td>19.2</td>\n",
       "    </tr>\n",
       "  </tbody>\n",
       "</table>\n",
       "</div>"
      ],
      "text/plain": [
       "     기간  구분  스트레스 인지율 스트레스 인지율.1 스트레스 인지율.2 우울감 경험률 우울감 경험률.1 우울감 경험률.2  \\\n",
       "0    기간  구분        전체        남학생        여학생      전체       남학생       여학생   \n",
       "1  2018   구분     42.7       34.5       51.5    29.6      24.2      35.4   \n",
       "\n",
       "  자살 생각률 자살 생각률.1 자살 생각률.2  \n",
       "0     전체      남학생      여학생  \n",
       "1   15.4     11.8     19.2  "
      ]
     },
     "execution_count": 52,
     "metadata": {},
     "output_type": "execute_result"
    }
   ],
   "source": [
    "pd.read_excel('../data/teenage_mental.xls') # shigt + tab"
   ]
  },
  {
   "cell_type": "code",
   "execution_count": 53,
   "metadata": {},
   "outputs": [
    {
     "data": {
      "text/html": [
       "<div>\n",
       "<style scoped>\n",
       "    .dataframe tbody tr th:only-of-type {\n",
       "        vertical-align: middle;\n",
       "    }\n",
       "\n",
       "    .dataframe tbody tr th {\n",
       "        vertical-align: top;\n",
       "    }\n",
       "\n",
       "    .dataframe thead th {\n",
       "        text-align: right;\n",
       "    }\n",
       "</style>\n",
       "<table border=\"1\" class=\"dataframe\">\n",
       "  <thead>\n",
       "    <tr style=\"text-align: right;\">\n",
       "      <th></th>\n",
       "      <th>기간</th>\n",
       "      <th>구분</th>\n",
       "      <th>전체</th>\n",
       "      <th>남학생</th>\n",
       "      <th>여학생</th>\n",
       "      <th>전체.1</th>\n",
       "      <th>남학생.1</th>\n",
       "      <th>여학생.1</th>\n",
       "      <th>전체.2</th>\n",
       "      <th>남학생.2</th>\n",
       "      <th>여학생.2</th>\n",
       "    </tr>\n",
       "  </thead>\n",
       "  <tbody>\n",
       "    <tr>\n",
       "      <td>0</td>\n",
       "      <td>2018</td>\n",
       "      <td>구분</td>\n",
       "      <td>42.7</td>\n",
       "      <td>34.5</td>\n",
       "      <td>51.5</td>\n",
       "      <td>29.6</td>\n",
       "      <td>24.2</td>\n",
       "      <td>35.4</td>\n",
       "      <td>15.4</td>\n",
       "      <td>11.8</td>\n",
       "      <td>19.2</td>\n",
       "    </tr>\n",
       "  </tbody>\n",
       "</table>\n",
       "</div>"
      ],
      "text/plain": [
       "     기간 구분     전체   남학생   여학생  전체.1  남학생.1  여학생.1  전체.2  남학생.2  여학생.2\n",
       "0  2018  구분  42.7  34.5  51.5  29.6   24.2   35.4  15.4   11.8   19.2"
      ]
     },
     "execution_count": 53,
     "metadata": {},
     "output_type": "execute_result"
    }
   ],
   "source": [
    "pd.read_excel('../data/teenage_mental.xls', header=1)"
   ]
  },
  {
   "cell_type": "code",
   "execution_count": 54,
   "metadata": {},
   "outputs": [
    {
     "data": {
      "text/html": [
       "<div>\n",
       "<style scoped>\n",
       "    .dataframe tbody tr th:only-of-type {\n",
       "        vertical-align: middle;\n",
       "    }\n",
       "\n",
       "    .dataframe tbody tr th {\n",
       "        vertical-align: top;\n",
       "    }\n",
       "\n",
       "    .dataframe thead th {\n",
       "        text-align: right;\n",
       "    }\n",
       "</style>\n",
       "<table border=\"1\" class=\"dataframe\">\n",
       "  <thead>\n",
       "    <tr style=\"text-align: right;\">\n",
       "      <th></th>\n",
       "      <th>전체</th>\n",
       "      <th>남학생</th>\n",
       "      <th>여학생</th>\n",
       "      <th>전체.1</th>\n",
       "      <th>남학생.1</th>\n",
       "      <th>여학생.1</th>\n",
       "      <th>전체.2</th>\n",
       "      <th>남학생.2</th>\n",
       "      <th>여학생.2</th>\n",
       "    </tr>\n",
       "  </thead>\n",
       "  <tbody>\n",
       "    <tr>\n",
       "      <td>0</td>\n",
       "      <td>42.7</td>\n",
       "      <td>34.5</td>\n",
       "      <td>51.5</td>\n",
       "      <td>29.6</td>\n",
       "      <td>24.2</td>\n",
       "      <td>35.4</td>\n",
       "      <td>15.4</td>\n",
       "      <td>11.8</td>\n",
       "      <td>19.2</td>\n",
       "    </tr>\n",
       "  </tbody>\n",
       "</table>\n",
       "</div>"
      ],
      "text/plain": [
       "     전체   남학생   여학생  전체.1  남학생.1  여학생.1  전체.2  남학생.2  여학생.2\n",
       "0  42.7  34.5  51.5  29.6   24.2   35.4  15.4   11.8   19.2"
      ]
     },
     "execution_count": 54,
     "metadata": {},
     "output_type": "execute_result"
    }
   ],
   "source": [
    "pd.read_excel('../data/teenage_mental.xls', header=1, usecols=\"C:K\")"
   ]
  },
  {
   "cell_type": "code",
   "execution_count": 56,
   "metadata": {},
   "outputs": [
    {
     "data": {
      "text/html": [
       "<div>\n",
       "<style scoped>\n",
       "    .dataframe tbody tr th:only-of-type {\n",
       "        vertical-align: middle;\n",
       "    }\n",
       "\n",
       "    .dataframe tbody tr th {\n",
       "        vertical-align: top;\n",
       "    }\n",
       "\n",
       "    .dataframe thead th {\n",
       "        text-align: right;\n",
       "    }\n",
       "</style>\n",
       "<table border=\"1\" class=\"dataframe\">\n",
       "  <thead>\n",
       "    <tr style=\"text-align: right;\">\n",
       "      <th></th>\n",
       "      <th>스트레스</th>\n",
       "      <th>스트레스남학생</th>\n",
       "      <th>스트레스여학생</th>\n",
       "      <th>우울감경험률</th>\n",
       "      <th>우울남학생</th>\n",
       "      <th>우울여학생</th>\n",
       "      <th>자살생각율</th>\n",
       "      <th>자살남학생</th>\n",
       "      <th>자살여학생</th>\n",
       "    </tr>\n",
       "  </thead>\n",
       "  <tbody>\n",
       "    <tr>\n",
       "      <td>0</td>\n",
       "      <td>42.7</td>\n",
       "      <td>34.5</td>\n",
       "      <td>51.5</td>\n",
       "      <td>29.6</td>\n",
       "      <td>24.2</td>\n",
       "      <td>35.4</td>\n",
       "      <td>15.4</td>\n",
       "      <td>11.8</td>\n",
       "      <td>19.2</td>\n",
       "    </tr>\n",
       "  </tbody>\n",
       "</table>\n",
       "</div>"
      ],
      "text/plain": [
       "   스트레스  스트레스남학생  스트레스여학생  우울감경험률  우울남학생  우울여학생  자살생각율  자살남학생  자살여학생\n",
       "0  42.7     34.5     51.5    29.6   24.2   35.4   15.4   11.8   19.2"
      ]
     },
     "execution_count": 56,
     "metadata": {},
     "output_type": "execute_result"
    }
   ],
   "source": [
    "col_names = ['스트레스','스트레스남학생','스트레스여학생',\n",
    "             '우울감경험률','우울남학생','우울여학생',\n",
    "             '자살생각율','자살남학생','자살여학생']\n",
    "pd.read_excel('../data/teenage_mental.xls', header=1, usecols=\"C:K\", names=col_names)"
   ]
  },
  {
   "cell_type": "code",
   "execution_count": 57,
   "metadata": {},
   "outputs": [
    {
     "data": {
      "text/html": [
       "<div>\n",
       "<style scoped>\n",
       "    .dataframe tbody tr th:only-of-type {\n",
       "        vertical-align: middle;\n",
       "    }\n",
       "\n",
       "    .dataframe tbody tr th {\n",
       "        vertical-align: top;\n",
       "    }\n",
       "\n",
       "    .dataframe thead th {\n",
       "        text-align: right;\n",
       "    }\n",
       "</style>\n",
       "<table border=\"1\" class=\"dataframe\">\n",
       "  <thead>\n",
       "    <tr style=\"text-align: right;\">\n",
       "      <th></th>\n",
       "      <th>스트레스</th>\n",
       "      <th>스트레스남학생</th>\n",
       "      <th>스트레스여학생</th>\n",
       "      <th>우울감경험률</th>\n",
       "      <th>우울남학생</th>\n",
       "      <th>우울여학생</th>\n",
       "      <th>자살생각율</th>\n",
       "      <th>자살남학생</th>\n",
       "      <th>자살여학생</th>\n",
       "    </tr>\n",
       "  </thead>\n",
       "  <tbody>\n",
       "    <tr>\n",
       "      <td>0</td>\n",
       "      <td>42.7</td>\n",
       "      <td>34.5</td>\n",
       "      <td>51.5</td>\n",
       "      <td>29.6</td>\n",
       "      <td>24.2</td>\n",
       "      <td>35.4</td>\n",
       "      <td>15.4</td>\n",
       "      <td>11.8</td>\n",
       "      <td>19.2</td>\n",
       "    </tr>\n",
       "  </tbody>\n",
       "</table>\n",
       "</div>"
      ],
      "text/plain": [
       "   스트레스  스트레스남학생  스트레스여학생  우울감경험률  우울남학생  우울여학생  자살생각율  자살남학생  자살여학생\n",
       "0  42.7     34.5     51.5    29.6   24.2   35.4   15.4   11.8   19.2"
      ]
     },
     "execution_count": 57,
     "metadata": {},
     "output_type": "execute_result"
    }
   ],
   "source": [
    "raw_data = pd.read_excel('../data/teenage_mental.xls', header=1, usecols=\"C:K\", names=col_names)\n",
    "raw_data"
   ]
  },
  {
   "cell_type": "code",
   "execution_count": 59,
   "metadata": {},
   "outputs": [
    {
     "data": {
      "text/html": [
       "<div>\n",
       "<style scoped>\n",
       "    .dataframe tbody tr th:only-of-type {\n",
       "        vertical-align: middle;\n",
       "    }\n",
       "\n",
       "    .dataframe tbody tr th {\n",
       "        vertical-align: top;\n",
       "    }\n",
       "\n",
       "    .dataframe thead th {\n",
       "        text-align: right;\n",
       "    }\n",
       "</style>\n",
       "<table border=\"1\" class=\"dataframe\">\n",
       "  <thead>\n",
       "    <tr style=\"text-align: right;\">\n",
       "      <th></th>\n",
       "      <th>스트레스</th>\n",
       "      <th>스트레스남학생</th>\n",
       "      <th>스트레스여학생</th>\n",
       "      <th>우울감경험률</th>\n",
       "      <th>우울남학생</th>\n",
       "      <th>우울여학생</th>\n",
       "      <th>자살생각율</th>\n",
       "      <th>자살남학생</th>\n",
       "      <th>자살여학생</th>\n",
       "    </tr>\n",
       "  </thead>\n",
       "  <tbody>\n",
       "    <tr>\n",
       "      <td>0</td>\n",
       "      <td>42.7</td>\n",
       "      <td>34.5</td>\n",
       "      <td>51.5</td>\n",
       "      <td>29.6</td>\n",
       "      <td>24.2</td>\n",
       "      <td>35.4</td>\n",
       "      <td>15.4</td>\n",
       "      <td>11.8</td>\n",
       "      <td>19.2</td>\n",
       "    </tr>\n",
       "    <tr>\n",
       "      <td>1</td>\n",
       "      <td>57.3</td>\n",
       "      <td>65.5</td>\n",
       "      <td>48.5</td>\n",
       "      <td>70.4</td>\n",
       "      <td>75.8</td>\n",
       "      <td>64.6</td>\n",
       "      <td>84.6</td>\n",
       "      <td>88.2</td>\n",
       "      <td>80.8</td>\n",
       "    </tr>\n",
       "  </tbody>\n",
       "</table>\n",
       "</div>"
      ],
      "text/plain": [
       "   스트레스  스트레스남학생  스트레스여학생  우울감경험률  우울남학생  우울여학생  자살생각율  자살남학생  자살여학생\n",
       "0  42.7     34.5     51.5    29.6   24.2   35.4   15.4   11.8   19.2\n",
       "1  57.3     65.5     48.5    70.4   75.8   64.6   84.6   88.2   80.8"
      ]
     },
     "execution_count": 59,
     "metadata": {},
     "output_type": "execute_result"
    }
   ],
   "source": [
    "raw_data.loc[1] = 100. - raw_data.loc[0]\n",
    "raw_data"
   ]
  },
  {
   "cell_type": "code",
   "execution_count": 60,
   "metadata": {},
   "outputs": [
    {
     "data": {
      "text/html": [
       "<div>\n",
       "<style scoped>\n",
       "    .dataframe tbody tr th:only-of-type {\n",
       "        vertical-align: middle;\n",
       "    }\n",
       "\n",
       "    .dataframe tbody tr th {\n",
       "        vertical-align: top;\n",
       "    }\n",
       "\n",
       "    .dataframe thead th {\n",
       "        text-align: right;\n",
       "    }\n",
       "</style>\n",
       "<table border=\"1\" class=\"dataframe\">\n",
       "  <thead>\n",
       "    <tr style=\"text-align: right;\">\n",
       "      <th></th>\n",
       "      <th>스트레스</th>\n",
       "      <th>스트레스남학생</th>\n",
       "      <th>스트레스여학생</th>\n",
       "      <th>우울감경험률</th>\n",
       "      <th>우울남학생</th>\n",
       "      <th>우울여학생</th>\n",
       "      <th>자살생각율</th>\n",
       "      <th>자살남학생</th>\n",
       "      <th>자살여학생</th>\n",
       "      <th>응답</th>\n",
       "    </tr>\n",
       "  </thead>\n",
       "  <tbody>\n",
       "    <tr>\n",
       "      <td>0</td>\n",
       "      <td>42.7</td>\n",
       "      <td>34.5</td>\n",
       "      <td>51.5</td>\n",
       "      <td>29.6</td>\n",
       "      <td>24.2</td>\n",
       "      <td>35.4</td>\n",
       "      <td>15.4</td>\n",
       "      <td>11.8</td>\n",
       "      <td>19.2</td>\n",
       "      <td>그렇다</td>\n",
       "    </tr>\n",
       "    <tr>\n",
       "      <td>1</td>\n",
       "      <td>57.3</td>\n",
       "      <td>65.5</td>\n",
       "      <td>48.5</td>\n",
       "      <td>70.4</td>\n",
       "      <td>75.8</td>\n",
       "      <td>64.6</td>\n",
       "      <td>84.6</td>\n",
       "      <td>88.2</td>\n",
       "      <td>80.8</td>\n",
       "      <td>아니다</td>\n",
       "    </tr>\n",
       "  </tbody>\n",
       "</table>\n",
       "</div>"
      ],
      "text/plain": [
       "   스트레스  스트레스남학생  스트레스여학생  우울감경험률  우울남학생  우울여학생  자살생각율  자살남학생  자살여학생   응답\n",
       "0  42.7     34.5     51.5    29.6   24.2   35.4   15.4   11.8   19.2  그렇다\n",
       "1  57.3     65.5     48.5    70.4   75.8   64.6   84.6   88.2   80.8  아니다"
      ]
     },
     "execution_count": 60,
     "metadata": {},
     "output_type": "execute_result"
    }
   ],
   "source": [
    "raw_data['응답'] = ['그렇다','아니다']\n",
    "raw_data"
   ]
  },
  {
   "cell_type": "code",
   "execution_count": 61,
   "metadata": {},
   "outputs": [
    {
     "data": {
      "text/html": [
       "<div>\n",
       "<style scoped>\n",
       "    .dataframe tbody tr th:only-of-type {\n",
       "        vertical-align: middle;\n",
       "    }\n",
       "\n",
       "    .dataframe tbody tr th {\n",
       "        vertical-align: top;\n",
       "    }\n",
       "\n",
       "    .dataframe thead th {\n",
       "        text-align: right;\n",
       "    }\n",
       "</style>\n",
       "<table border=\"1\" class=\"dataframe\">\n",
       "  <thead>\n",
       "    <tr style=\"text-align: right;\">\n",
       "      <th></th>\n",
       "      <th>스트레스</th>\n",
       "      <th>스트레스남학생</th>\n",
       "      <th>스트레스여학생</th>\n",
       "      <th>우울감경험률</th>\n",
       "      <th>우울남학생</th>\n",
       "      <th>우울여학생</th>\n",
       "      <th>자살생각율</th>\n",
       "      <th>자살남학생</th>\n",
       "      <th>자살여학생</th>\n",
       "    </tr>\n",
       "    <tr>\n",
       "      <th>응답</th>\n",
       "      <th></th>\n",
       "      <th></th>\n",
       "      <th></th>\n",
       "      <th></th>\n",
       "      <th></th>\n",
       "      <th></th>\n",
       "      <th></th>\n",
       "      <th></th>\n",
       "      <th></th>\n",
       "    </tr>\n",
       "  </thead>\n",
       "  <tbody>\n",
       "    <tr>\n",
       "      <td>그렇다</td>\n",
       "      <td>42.7</td>\n",
       "      <td>34.5</td>\n",
       "      <td>51.5</td>\n",
       "      <td>29.6</td>\n",
       "      <td>24.2</td>\n",
       "      <td>35.4</td>\n",
       "      <td>15.4</td>\n",
       "      <td>11.8</td>\n",
       "      <td>19.2</td>\n",
       "    </tr>\n",
       "    <tr>\n",
       "      <td>아니다</td>\n",
       "      <td>57.3</td>\n",
       "      <td>65.5</td>\n",
       "      <td>48.5</td>\n",
       "      <td>70.4</td>\n",
       "      <td>75.8</td>\n",
       "      <td>64.6</td>\n",
       "      <td>84.6</td>\n",
       "      <td>88.2</td>\n",
       "      <td>80.8</td>\n",
       "    </tr>\n",
       "  </tbody>\n",
       "</table>\n",
       "</div>"
      ],
      "text/plain": [
       "     스트레스  스트레스남학생  스트레스여학생  우울감경험률  우울남학생  우울여학생  자살생각율  자살남학생  자살여학생\n",
       "응답                                                                    \n",
       "그렇다  42.7     34.5     51.5    29.6   24.2   35.4   15.4   11.8   19.2\n",
       "아니다  57.3     65.5     48.5    70.4   75.8   64.6   84.6   88.2   80.8"
      ]
     },
     "execution_count": 61,
     "metadata": {},
     "output_type": "execute_result"
    }
   ],
   "source": [
    "# inplace=True : raw_data 내용을 갱신하겠다.\n",
    "raw_data.set_index('응답', inplace=True)\n",
    "raw_data"
   ]
  },
  {
   "cell_type": "markdown",
   "metadata": {},
   "source": [
    "### matplotlib의 한글 문제"
   ]
  },
  {
   "cell_type": "code",
   "execution_count": 63,
   "metadata": {},
   "outputs": [],
   "source": [
    "### 그래프 한글 깨질때\n",
    "import matplotlib.pyplot as plt\n",
    "%matplotlib inline\n",
    "\n",
    "from matplotlib import font_manager, rc\n",
    "# - 기호 깨지는것 방지\n",
    "plt.rcParams['axes.unicode_minus'] = False\n",
    "\n",
    "f_path = \"C:/Windows/Fonts/malgun.ttf\"\n",
    "\n",
    "font_name = font_manager.FontProperties(fname = f_path).get_name()\n",
    "rc('font', family=font_name)"
   ]
  },
  {
   "cell_type": "markdown",
   "metadata": {},
   "source": [
    "## 데이터를 그래프로 표현하기"
   ]
  },
  {
   "cell_type": "code",
   "execution_count": 64,
   "metadata": {},
   "outputs": [
    {
     "data": {
      "text/html": [
       "<div>\n",
       "<style scoped>\n",
       "    .dataframe tbody tr th:only-of-type {\n",
       "        vertical-align: middle;\n",
       "    }\n",
       "\n",
       "    .dataframe tbody tr th {\n",
       "        vertical-align: top;\n",
       "    }\n",
       "\n",
       "    .dataframe thead th {\n",
       "        text-align: right;\n",
       "    }\n",
       "</style>\n",
       "<table border=\"1\" class=\"dataframe\">\n",
       "  <thead>\n",
       "    <tr style=\"text-align: right;\">\n",
       "      <th></th>\n",
       "      <th>스트레스</th>\n",
       "      <th>스트레스남학생</th>\n",
       "      <th>스트레스여학생</th>\n",
       "      <th>우울감경험률</th>\n",
       "      <th>우울남학생</th>\n",
       "      <th>우울여학생</th>\n",
       "      <th>자살생각율</th>\n",
       "      <th>자살남학생</th>\n",
       "      <th>자살여학생</th>\n",
       "    </tr>\n",
       "    <tr>\n",
       "      <th>응답</th>\n",
       "      <th></th>\n",
       "      <th></th>\n",
       "      <th></th>\n",
       "      <th></th>\n",
       "      <th></th>\n",
       "      <th></th>\n",
       "      <th></th>\n",
       "      <th></th>\n",
       "      <th></th>\n",
       "    </tr>\n",
       "  </thead>\n",
       "  <tbody>\n",
       "    <tr>\n",
       "      <td>그렇다</td>\n",
       "      <td>42.7</td>\n",
       "      <td>34.5</td>\n",
       "      <td>51.5</td>\n",
       "      <td>29.6</td>\n",
       "      <td>24.2</td>\n",
       "      <td>35.4</td>\n",
       "      <td>15.4</td>\n",
       "      <td>11.8</td>\n",
       "      <td>19.2</td>\n",
       "    </tr>\n",
       "    <tr>\n",
       "      <td>아니다</td>\n",
       "      <td>57.3</td>\n",
       "      <td>65.5</td>\n",
       "      <td>48.5</td>\n",
       "      <td>70.4</td>\n",
       "      <td>75.8</td>\n",
       "      <td>64.6</td>\n",
       "      <td>84.6</td>\n",
       "      <td>88.2</td>\n",
       "      <td>80.8</td>\n",
       "    </tr>\n",
       "  </tbody>\n",
       "</table>\n",
       "</div>"
      ],
      "text/plain": [
       "     스트레스  스트레스남학생  스트레스여학생  우울감경험률  우울남학생  우울여학생  자살생각율  자살남학생  자살여학생\n",
       "응답                                                                    \n",
       "그렇다  42.7     34.5     51.5    29.6   24.2   35.4   15.4   11.8   19.2\n",
       "아니다  57.3     65.5     48.5    70.4   75.8   64.6   84.6   88.2   80.8"
      ]
     },
     "execution_count": 64,
     "metadata": {},
     "output_type": "execute_result"
    }
   ],
   "source": [
    "raw_data"
   ]
  },
  {
   "cell_type": "code",
   "execution_count": 68,
   "metadata": {},
   "outputs": [
    {
     "data": {
      "text/plain": [
       "<matplotlib.axes._subplots.AxesSubplot at 0x1ed24af6188>"
      ]
     },
     "execution_count": 68,
     "metadata": {},
     "output_type": "execute_result"
    },
    {
     "data": {
      "image/png": "[encoded data removed]",
      "text/plain": [
       "<Figure size 432x288 with 1 Axes>"
      ]
     },
     "metadata": {},
     "output_type": "display_data"
    }
   ],
   "source": [
    "raw_data['스트레스'].plot.pie()"
   ]
  },
  {
   "cell_type": "code",
   "execution_count": 73,
   "metadata": {},
   "outputs": [
    {
     "data": {
      "image/png": "[encoded data removed]",
      "text/plain": [
       "<Figure size 432x288 with 1 Axes>"
      ]
     },
     "metadata": {},
     "output_type": "display_data"
    }
   ],
   "source": [
    "raw_data['스트레스'].plot.pie(explode=[0, 0.04]);"
   ]
  },
  {
   "cell_type": "code",
   "execution_count": 80,
   "metadata": {},
   "outputs": [
    {
     "data": {
      "image/png": "[encoded data removed]",
      "text/plain": [
       "<Figure size 1152x576 with 3 Axes>"
      ]
     },
     "metadata": {},
     "output_type": "display_data"
    }
   ],
   "source": [
    "f, ax = plt.subplots(1,3, figsize = (16,8))\n",
    "\n",
    "raw_data['스트레스'].plot.pie(explode=[0,0.02],ax=ax[0], autopct = '%1.1f%%')\n",
    "ax[0].set_title('스트레스를 받은적 있다.')\n",
    "ax[0].set_ylabel('')\n",
    "\n",
    "raw_data['우울감경험률'].plot.pie(explode=[0,0.02],ax=ax[1], autopct = '%1.1f%%')\n",
    "ax[1].set_title('우울증을 받은적 있다.')\n",
    "ax[1].set_ylabel('')\n",
    "\n",
    "raw_data['자살생각율'].plot.pie(explode=[0,0.02],ax=ax[2], autopct = '%1.1f%%')\n",
    "ax[2].set_title('자살을 받은적 있다.')\n",
    "ax[2].set_ylabel('')\n",
    "plt.show()"
   ]
  },
  {
   "cell_type": "code",
   "execution_count": null,
   "metadata": {},
   "outputs": [],
   "source": []
  }
 ],
 "metadata": {
  "kernelspec": {
   "display_name": "Python 3",
   "language": "python",
   "name": "python3"
  },
  "language_info": {
   "codemirror_mode": {
    "name": "ipython",
    "version": 3
   },
   "file_extension": ".py",
   "mimetype": "text/x-python",
   "name": "python",
   "nbconvert_exporter": "python",
   "pygments_lexer": "ipython3",
   "version": "3.7.4"
  }
 },
 "nbformat": 4,
 "nbformat_minor": 2
}
