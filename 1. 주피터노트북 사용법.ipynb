{
 "cells": [
  {
   "cell_type": "markdown",
   "metadata": {},
   "source": [
    "# 주피터 노트북 실행은 shift + enter"
   ]
  },
  {
   "cell_type": "code",
   "execution_count": 1,
   "metadata": {},
   "outputs": [
    {
     "name": "stdout",
     "output_type": "stream",
     "text": [
      "Hello! world\n"
     ]
    }
   ],
   "source": [
    "print(\"Hello! world\")"
   ]
  },
  {
   "cell_type": "code",
   "execution_count": 2,
   "metadata": {},
   "outputs": [
    {
     "data": {
      "text/plain": [
       "30"
      ]
     },
     "execution_count": 2,
     "metadata": {},
     "output_type": "execute_result"
    }
   ],
   "source": [
    "10 + 20"
   ]
  },
  {
   "cell_type": "code",
   "execution_count": 4,
   "metadata": {},
   "outputs": [
    {
     "name": "stdout",
     "output_type": "stream",
     "text": [
      "hello\n"
     ]
    }
   ],
   "source": [
    "print(\"hello\")"
   ]
  },
  {
   "cell_type": "code",
   "execution_count": 3,
   "metadata": {},
   "outputs": [
    {
     "data": {
      "text/plain": [
       "1104932"
      ]
     },
     "execution_count": 3,
     "metadata": {},
     "output_type": "execute_result"
    }
   ],
   "source": [
    "552466 * 2"
   ]
  },
  {
   "cell_type": "markdown",
   "metadata": {},
   "source": [
    "## 주피터 노트북\n",
    "#### 파이썬 코드를 쉽게 쓰고 확인하고 이를 문서화 하고 싶은 경우 사용합니다.\n",
    "### Markdown 문서\n",
    "* 코드를 블록별로 실행한 결과를 저장하면 다시 문서를 불러왔을때 그 결과를 재실행하지 않아도 볼 수 있습니다.\n",
    "* 데이터를 핸들링하는 과정과 결과를 볼 수 있어 개발환경을 구축하지 않은 사람도 코드를 볼 수 있습니다."
   ]
  },
  {
   "cell_type": "markdown",
   "metadata": {},
   "source": [
    "# 큰 제목 테스트\n",
    "## 중간 제목 테스트\n",
    "### 작은 제목 테스트\n",
    "* 번호없는 목록입니다.\n",
    "    * 탭을 입력하고 *을 사용하면 들여쓰기가 됩니다.\n",
    "    * 번호없는 목록입니다."
   ]
  },
  {
   "cell_type": "markdown",
   "metadata": {},
   "source": [
    "### 주요 단축키\n",
    "* shigt + enter : 액티브 셀을 실행하고 아래 셀을 선택\n",
    "* ctrl + enter : 액테브 셀을 실행\n",
    "* alt + enter : 액티브 셀을 실행하고 아래에 셀을 하나 생성\n",
    "* dd : 선택 셀 삭제\n",
    "* a : 위로 셀 추가\n",
    "* b : 아래로 셀 추가\n",
    "* m : Markdown으로 변경\n",
    "* y : code로 변경"
   ]
  },
  {
   "cell_type": "markdown",
   "metadata": {},
   "source": [
    "### 굵은 글씨, 기울인 글씨, 굵은 상태에서 기울인 글씨\n",
    "*기울인 글씨*와 **굵은 글씨**와 ***굵게 기울인 글씨***"
   ]
  },
  {
   "cell_type": "markdown",
   "metadata": {},
   "source": [
    "<div align=\"center\"><img src=\" ../img/이미지.png\" width = \"300\" height=\"300\"></div>\n",
    "<div align=\"center\"> 그림1. 아스날 </div>"
   ]
  },
  {
   "cell_type": "markdown",
   "metadata": {},
   "source": [
    "<div align=\"center\"><img src=\" ../img/다운로드.jpg\" width = \"300\" height=\"300\"></div>\n",
    "<div align=\"center\"> 그림2. 아스날 </div>"
   ]
  },
  {
   "cell_type": "code",
   "execution_count": null,
   "metadata": {},
   "outputs": [],
   "source": []
  }
 ],
 "metadata": {
  "kernelspec": {
   "display_name": "Python 3",
   "language": "python",
   "name": "python3"
  },
  "language_info": {
   "codemirror_mode": {
    "name": "ipython",
    "version": 3
   },
   "file_extension": ".py",
   "mimetype": "text/x-python",
   "name": "python",
   "nbconvert_exporter": "python",
   "pygments_lexer": "ipython3",
   "version": "3.7.4"
  }
 },
 "nbformat": 4,
 "nbformat_minor": 2
}
