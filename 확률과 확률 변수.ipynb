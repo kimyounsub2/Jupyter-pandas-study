{
 "cells": [
  {
   "cell_type": "markdown",
   "metadata": {},
   "source": [
    "# 확률\n",
    "## 사건과 확률\n",
    "* 확률이란 어떤 사건이 일어날 가능성을 0과 1 사이의 숫자로 표시한 것임\n",
    "* 확률은 여러 가지로 정의할 수 있는데, 대표적으로 수학적확률과 통계적확률이 있음\n",
    "\n",
    "## 조건부확률과 독립성\n",
    "* 사건 B가 주어졌을 때, 사건 A의 조건부 확률은 다음과 같이 정의함\n",
    "<div align=\"center\"><img src=\" ../img/확률1.png\" ></div>\n",
    "\n",
    "* 두사건 A,B가 다음을 만족할 때, A와 B는 서로 독립 이라고함\n",
    "<div align=\"center\"><img src=\" ../img/확률2.png\" ></div>\n",
    "\n",
    "## 베이즈 정리\n",
    "* B1,B2, ~ ,Bn이 표본 공간에 대한 분할(partition)일 떄, 임의의 사건 A에 대하여 다음이 성립함(1<= k <=n)\n",
    "<div align=\"center\"><img src=\" ../img/확률3.png\" ></div>"
   ]
  },
  {
   "cell_type": "markdown",
   "metadata": {},
   "source": [
    "# 확률 변수\n",
    "## 확률변수 와 확률분포\n",
    "* 정의역이 표본공간 S이고 공역이 실수전체 집합인 함수를 확률변수라고 한다.\n",
    "* 확률변수 x의 값과 그에 대응하는 확률값을 나타내는 표나 수식을 확률변수x의 확률분포라고 한다.\n",
    "\n",
    "## 결합확률 분포\n",
    "* 확률분포 x의 값과 확률변수 y의 값의 각 쌍에 대응하는 확률값을 나타내는 표와 수식을 x와 y의 결합확률 분포라고 한다.\n",
    "\n",
    "## 공분산과 독립성\n",
    "* X와 Y의 공분산(Covariance)은 다음과 같이 정의한다.\n",
    "<div align=\"center\"><img src=\" ../img/확률변수1.png\" ></div>\n",
    "* 두개의 확률변수 X,Y가 다음을 만족시킬때 독립이라고 한다.\n",
    "<div align=\"center\"><img src=\" ../img/확률변수2.png\" ></div>"
   ]
  },
  {
   "cell_type": "code",
   "execution_count": null,
   "metadata": {},
   "outputs": [],
   "source": []
  }
 ],
 "metadata": {
  "kernelspec": {
   "display_name": "Python 3",
   "language": "python",
   "name": "python3"
  },
  "language_info": {
   "codemirror_mode": {
    "name": "ipython",
    "version": 3
   },
   "file_extension": ".py",
   "mimetype": "text/x-python",
   "name": "python",
   "nbconvert_exporter": "python",
   "pygments_lexer": "ipython3",
   "version": "3.7.0"
  }
 },
 "nbformat": 4,
 "nbformat_minor": 2
}
