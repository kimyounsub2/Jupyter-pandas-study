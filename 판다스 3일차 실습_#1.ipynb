{
 "cells": [
  {
   "cell_type": "code",
   "execution_count": 1,
   "metadata": {},
   "outputs": [],
   "source": [
    "# 1. 2010 ~ 2015에 출생한 아이들의 남/여 파일을 읽어서 concat 시키자"
   ]
  },
  {
   "cell_type": "code",
   "execution_count": 68,
   "metadata": {},
   "outputs": [],
   "source": [
    "import pandas as pd"
   ]
  },
  {
   "cell_type": "code",
   "execution_count": 41,
   "metadata": {},
   "outputs": [],
   "source": [
    "col_names = ['name','sex','count']\n",
    "y2010 = pd.read_csv('../data/names/yob2010.txt', header=1, names=col_names)\n",
    "y2011 = pd.read_csv('../data/names/yob2011.txt', header=1, names=col_names)\n",
    "y2012 = pd.read_csv('../data/names/yob2012.txt', header=1, names=col_names)\n",
    "y2013 = pd.read_csv('../data/names/yob2013.txt', header=1, names=col_names)\n",
    "y2014 = pd.read_csv('../data/names/yob2014.txt', header=1, names=col_names)\n",
    "y2015 = pd.read_csv('../data/names/yob2015.txt', header=1, names=col_names)"
   ]
  },
  {
   "cell_type": "code",
   "execution_count": 81,
   "metadata": {},
   "outputs": [
    {
     "name": "stdout",
     "output_type": "stream",
     "text": [
      "      name sex  count  year\n",
      "0     Emma   F  17345  2010\n",
      "1   Olivia   F  17028  2010\n",
      "2      Ava   F  15433  2010\n",
      "3    Emily   F  14274  2010\n",
      "4  Abigail   F  14247  2010\n"
     ]
    }
   ],
   "source": [
    "y2010['year']='2010'\n",
    "y2011['year']='2011'\n",
    "y2012['year']='2012'\n",
    "y2013['year']='2013'\n",
    "y2014['year']='2014'\n",
    "y2015['year']='2015'\n",
    "print(y2010.head())"
   ]
  },
  {
   "cell_type": "code",
   "execution_count": 82,
   "metadata": {},
   "outputs": [],
   "source": [
    "import warnings\n",
    "warnings.filterwarnings(action='ignore')"
   ]
  },
  {
   "cell_type": "code",
   "execution_count": 83,
   "metadata": {},
   "outputs": [
    {
     "name": "stdout",
     "output_type": "stream",
     "text": [
      "         name sex  count  year\n",
      "0        Emma   F  17345  2010\n",
      "1      Olivia   F  17028  2010\n",
      "2         Ava   F  15433  2010\n",
      "3       Emily   F  14274  2010\n",
      "4     Abigail   F  14247  2010\n",
      "5     Madison   F  13183  2010\n",
      "6       Chloe   F  11754  2010\n",
      "7         Mia   F  10639  2010\n",
      "8     Addison   F  10325  2010\n",
      "9   Elizabeth   F  10262  2010\n",
      "10       Ella   F   9876  2010\n",
      "11    Natalie   F   8777  2010\n",
      "12   Samantha   F   8408  2010\n",
      "13     Alexis   F   8265  2010\n",
      "14       Lily   F   7986  2010\n",
      "15      Grace   F   7683  2010\n",
      "16     Hailey   F   7019  2010\n",
      "17     Alyssa   F   6991  2010\n",
      "18     Hannah   F   6988  2010\n",
      "19    Lillian   F   6951  2010\n",
      "20      Avery   F   6674  2010\n",
      "21       Leah   F   6537  2010\n",
      "22     Nevaeh   F   6425  2010\n",
      "23       Anna   F   6329  2010\n",
      "24      Sarah   F   6328  2010\n",
      "25      Sofia   F   6327  2010\n",
      "26     Ashley   F   6314  2010\n",
      "27    Brianna   F   6277  2010\n",
      "28        Zoe   F   6269  2010\n",
      "29   Victoria   F   6227  2010\n"
     ]
    }
   ],
   "source": [
    "row_concat = pd.concat([y2010, y2011, y2012, y2013, y2014, y2015])\n",
    "print(row_concat.head(30))"
   ]
  },
  {
   "cell_type": "code",
   "execution_count": 74,
   "metadata": {},
   "outputs": [],
   "source": [
    "### 그래프 한글 깨질때\n",
    "import matplotlib.pyplot as plt\n",
    "%matplotlib inline\n",
    "\n",
    "from matplotlib import font_manager, rc\n",
    "# - 기호 깨지는것 방지\n",
    "plt.rcParams['axes.unicode_minus'] = False\n",
    "\n",
    "f_path = \"C:/Windows/Fonts/malgun.ttf\"\n",
    "\n",
    "font_name = font_manager.FontProperties(fname = f_path).get_name()\n",
    "rc('font', family=font_name)"
   ]
  },
  {
   "cell_type": "code",
   "execution_count": 76,
   "metadata": {},
   "outputs": [
    {
     "data": {
      "image/png": "[encoded data removed]",
      "text/plain": [
       "<Figure size 432x288 with 1 Axes>"
      ]
     },
     "metadata": {},
     "output_type": "display_data"
    }
   ],
   "source": [
    "# 2. 2010~2015에 출생한 전체 남/녀 수의 합을 구하세요.\n",
    "fcount = sum(row_concat[row_concat['sex'] == 'F']['count'])\n",
    "mcount = sum(row_concat[row_concat['sex'] == 'M']['count'])\n",
    "labels = ('남({:,})'. format(mcount), '여({:,})'.format(fcount))\n",
    "sizes = [mcount, fcount]\n",
    "colors = ['skyblue', 'pink']\n",
    "explode = (0, 0.1)\n",
    "plt.pie(sizes, explode = explode, labels = labels, colors = colors, autopct = '%1.1f%%', shadow=True, startangle=90)\n",
    "plt.show()"
   ]
  },
  {
   "cell_type": "code",
   "execution_count": 85,
   "metadata": {},
   "outputs": [
    {
     "data": {
      "image/png": "[encoded data removed]",
      "text/plain": [
       "<Figure size 432x288 with 1 Axes>"
      ]
     },
     "metadata": {
      "needs_background": "light"
     },
     "output_type": "display_data"
    }
   ],
   "source": [
    "ax = plt.subplots()\n",
    "ax = sns.countplot('sex', data = row_concat)"
   ]
  },
  {
   "cell_type": "code",
   "execution_count": 57,
   "metadata": {},
   "outputs": [],
   "source": [
    "import seaborn as sns\n",
    "import matplotlib.pyplot as plt"
   ]
  },
  {
   "cell_type": "code",
   "execution_count": 84,
   "metadata": {},
   "outputs": [
    {
     "data": {
      "text/plain": [
       "Text(0.5, 1.0, '연도별 남/여 숫자')"
      ]
     },
     "execution_count": 84,
     "metadata": {},
     "output_type": "execute_result"
    },
    {
     "data": {
      "image/png": "[encoded data removed]",
      "text/plain": [
       "<Figure size 432x288 with 1 Axes>"
      ]
     },
     "metadata": {
      "needs_background": "light"
     },
     "output_type": "display_data"
    }
   ],
   "source": [
    "# 3 년도별 남여 출생 추이 그래프를 그리세요.\n",
    "ax = plt.subplots()\n",
    "ax = sns.countplot(x = 'year', hue = 'sex', data = row_concat )\n",
    "ax.set_title('연도별 남/여 숫자')"
   ]
  },
  {
   "cell_type": "code",
   "execution_count": null,
   "metadata": {},
   "outputs": [],
   "source": []
  }
 ],
 "metadata": {
  "kernelspec": {
   "display_name": "Python 3",
   "language": "python",
   "name": "python3"
  },
  "language_info": {
   "codemirror_mode": {
    "name": "ipython",
    "version": 3
   },
   "file_extension": ".py",
   "mimetype": "text/x-python",
   "name": "python",
   "nbconvert_exporter": "python",
   "pygments_lexer": "ipython3",
   "version": "3.7.4"
  }
 },
 "nbformat": 4,
 "nbformat_minor": 2
}
