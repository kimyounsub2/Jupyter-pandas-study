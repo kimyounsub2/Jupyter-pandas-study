{
 "cells": [
  {
   "cell_type": "markdown",
   "metadata": {},
   "source": [
    "# 벡터공간과 부분구간\n",
    "\n",
    "\n",
    "## 벡터공간\n",
    "<div align=\"center\"><img src=\" ../img/벡터공간1.png\" ></div>\n",
    "\n",
    "## 부분공간\n",
    "<div align=\"center\"><img src=\" ../img/벡터공간2.png\" ></div>"
   ]
  },
  {
   "cell_type": "markdown",
   "metadata": {},
   "source": [
    "## 행렬의 정의와 연산\n",
    "<div align=\"center\"><img src=\" ../img/행렬1.png\" ></div>\n",
    "\n",
    "## 선형연립방정식과 행렬\n",
    "* 선형연립장정식과 행렬방정식은 같은것으로 생각할수 있음\n",
    "<div align=\"center\"><img src=\" ../img/행렬2.png\" ></div>"
   ]
  },
  {
   "cell_type": "markdown",
   "metadata": {},
   "source": [
    "# 행렬의 대각화 -고윳값, 고유벡터\n",
    "## 행렬식\n",
    "<div align=\"center\"><img src=\" ../img/행렬식1.png\" ></div>\n",
    "\n",
    "## 고윳값과 고유벡터\n",
    "<div align=\"center\"><img src=\" ../img/행렬식2.png\" ></div>\n",
    "\n",
    "## 대각화\n",
    "* 정의 (대각화): n x n 행렬 A가 다음을 만족할때\n",
    "<div align=\"center\"><img src=\" ../img/행렬식3.png\" ></div> \n"
   ]
  },
  {
   "cell_type": "code",
   "execution_count": null,
   "metadata": {},
   "outputs": [],
   "source": []
  }
 ],
 "metadata": {
  "kernelspec": {
   "display_name": "Python 3",
   "language": "python",
   "name": "python3"
  },
  "language_info": {
   "codemirror_mode": {
    "name": "ipython",
    "version": 3
   },
   "file_extension": ".py",
   "mimetype": "text/x-python",
   "name": "python",
   "nbconvert_exporter": "python",
   "pygments_lexer": "ipython3",
   "version": "3.7.0"
  }
 },
 "nbformat": 4,
 "nbformat_minor": 2
}
