{
 "cells": [
  {
   "cell_type": "code",
   "execution_count": 99,
   "metadata": {},
   "outputs": [
    {
     "name": "stdout",
     "output_type": "stream",
     "text": [
      "    구별    소계       최근증가율       인구수       한국인      외국인      고령자     외국인비율  \\\n",
      "0  강남구  2780  150.619195  570500.0  565550.0   4950.0  63167.0  0.867660   \n",
      "1  강동구   773  166.490765  453233.0  449019.0   4214.0  54622.0  0.929765   \n",
      "2  강북구   748  125.203252  330192.0  326686.0   3506.0  54813.0  1.061806   \n",
      "3  강서구   884  134.793814  603772.0  597248.0   6524.0  72548.0  1.080540   \n",
      "4  관악구  1496  149.290780  525515.0  507203.0  18312.0  68082.0  3.484582   \n",
      "\n",
      "       고령자비율    CCTV비율           오차  \n",
      "0  11.072217  0.487292  1388.055355  \n",
      "1  12.051638  0.170552   465.422892  \n",
      "2  16.600342  0.226535   329.342026  \n",
      "3  12.015794  0.146413   551.503155  \n",
      "4  12.955291  0.284673   162.948104  \n"
     ]
    }
   ],
   "source": [
    "# 첨부한 파일을 불러오세요.(CCTV.csv)\n",
    "import pandas as pd\n",
    "df = pd.read_csv('../data/CCTV.csv', sep=',')\n",
    "print(df.head(n=5))"
   ]
  },
  {
   "cell_type": "code",
   "execution_count": 93,
   "metadata": {},
   "outputs": [
    {
     "name": "stdout",
     "output_type": "stream",
     "text": [
      "      Name  Births\n",
      "0      Bob     968\n",
      "1  Jessica     155\n",
      "2     Mary      77\n",
      "3     John     578\n",
      "4      Mel     973\n"
     ]
    }
   ],
   "source": [
    "# 1. 아래와 같이 데이터 프레임을 만들어 보세요.\n",
    "import pandas as pd\n",
    "aa = pd.DataFrame({\n",
    "    'Name' : ['Bob','Jessica','Mary','John','Mel'],\n",
    "    'Births' : [968, 155, 77, 578, 973]\n",
    "})\n",
    "print(aa)"
   ]
  },
  {
   "cell_type": "code",
   "execution_count": 5,
   "metadata": {},
   "outputs": [
    {
     "name": "stdout",
     "output_type": "stream",
     "text": [
      "      Name\n",
      "0      Bob\n",
      "1  Jessica\n",
      "2     Mary\n",
      "3     John\n",
      "4      Mel\n"
     ]
    }
   ],
   "source": [
    "# 2. 하나의 열을 선택하세요.\n",
    "print(aa.iloc[:,[0]])"
   ]
  },
  {
   "cell_type": "code",
   "execution_count": 25,
   "metadata": {},
   "outputs": [
    {
     "name": "stdout",
     "output_type": "stream",
     "text": [
      "      Name  Births\n",
      "0      Bob     968\n",
      "1  Jessica     155\n",
      "2     Mary      77\n"
     ]
    }
   ],
   "source": [
    "# 3. 0~3 번째 인덱스를 선택하세요.\n",
    "print(aa.iloc[:3])"
   ]
  },
  {
   "cell_type": "code",
   "execution_count": 27,
   "metadata": {},
   "outputs": [
    {
     "name": "stdout",
     "output_type": "stream",
     "text": [
      "      Name  Births\n",
      "0      Bob     968\n",
      "1  Jessica     155\n",
      "3     John     578\n",
      "4      Mel     973\n"
     ]
    }
   ],
   "source": [
    "# 4. Births 열이 100보다 큰 데이터를 선택해 보세요.\n",
    "print(aa[aa['Births'] > 100])"
   ]
  },
  {
   "cell_type": "code",
   "execution_count": 28,
   "metadata": {},
   "outputs": [
    {
     "name": "stdout",
     "output_type": "stream",
     "text": [
      "Births    550.2\n",
      "dtype: float64\n"
     ]
    }
   ],
   "source": [
    "# 5. 평균값을 계산해 보세요.\n",
    "print(aa.mean())"
   ]
  },
  {
   "cell_type": "code",
   "execution_count": 64,
   "metadata": {},
   "outputs": [
    {
     "name": "stdout",
     "output_type": "stream",
     "text": [
      "    name  age        job\n",
      "0   John   20    student\n",
      "1  Jenny   30  developer\n",
      "2   Nate   30    teacher\n"
     ]
    }
   ],
   "source": [
    "# 6.아래와 같은 데이터프레임을 만들어 보세요.\n",
    "test = pd.DataFrame({\n",
    "    'name' : ['John','Jenny','Nate'],\n",
    "    'age' : [20,30,30],\n",
    "    'job' : ['student','developer','teacher']\n",
    "})\n",
    "print(test)"
   ]
  },
  {
   "cell_type": "code",
   "execution_count": 100,
   "metadata": {},
   "outputs": [
    {
     "name": "stdout",
     "output_type": "stream",
     "text": [
      "    name  age        job\n",
      "0   John   20    student\n",
      "1  Jenny   30  developer\n",
      "2   Nate   30    teacher\n"
     ]
    }
   ],
   "source": [
    "# 7. 1부터 3까지 행(row)을 출력해 보세요.(순차적 선택)\n",
    "print(test[0:3])"
   ]
  },
  {
   "cell_type": "code",
   "execution_count": 39,
   "metadata": {},
   "outputs": [
    {
     "name": "stdout",
     "output_type": "stream",
     "text": [
      "   name  age      job\n",
      "0  John   20  student\n",
      "2  Nate   30  teacher\n"
     ]
    }
   ],
   "source": [
    "# 8. 0, 2번 행(row)을 선택해서 출력해 보세요.(순차적이지 않은 row 선택)\n",
    "print(test.loc[[0,2]])"
   ]
  },
  {
   "cell_type": "code",
   "execution_count": 74,
   "metadata": {},
   "outputs": [
    {
     "name": "stdout",
     "output_type": "stream",
     "text": [
      "    name  age\n",
      "0   John   20\n",
      "1  Jenny   30\n",
      "2   Nate   30\n"
     ]
    }
   ],
   "source": [
    "# 9.모든 행(row)을 보여주되, 열(column)은 0부터 1까지만 출력\n",
    "print(test.iloc[:,0:2])"
   ]
  },
  {
   "cell_type": "code",
   "execution_count": 82,
   "metadata": {},
   "outputs": [
    {
     "name": "stdout",
     "output_type": "stream",
     "text": [
      "    name        job\n",
      "0   John    student\n",
      "1  Jenny  developer\n",
      "2   Nate    teacher\n"
     ]
    }
   ],
   "source": [
    "# 10.모든 행(row)을 보여주되, 열(column) 0와 2만 출력\n",
    "print(test.iloc[:, [0,2]])"
   ]
  },
  {
   "cell_type": "code",
   "execution_count": 86,
   "metadata": {},
   "outputs": [
    {
     "name": "stdout",
     "output_type": "stream",
     "text": [
      "    name  age        job\n",
      "1  Jenny   30  developer\n",
      "2   Nate   30    teacher\n"
     ]
    }
   ],
   "source": [
    "# 11. 나이가 27살 이상인 사람만 출력해 보세요.\n",
    "age = test['age']\n",
    "print(test[age >= 27])"
   ]
  },
  {
   "cell_type": "code",
   "execution_count": 90,
   "metadata": {},
   "outputs": [
    {
     "name": "stdout",
     "output_type": "stream",
     "text": [
      "    name  age        job\n",
      "1  Jenny   30  developer\n"
     ]
    }
   ],
   "source": [
    "# 12. 나이가 27살 이상이고, 이름이 'Jenny'인 사람만 출력해 보세요.\n",
    "tt = test[age >= 27]\n",
    "print(tt[tt['name']== 'Jenny'])"
   ]
  },
  {
   "cell_type": "code",
   "execution_count": 91,
   "metadata": {},
   "outputs": [
    {
     "data": {
      "text/html": [
       "<div>\n",
       "<style scoped>\n",
       "    .dataframe tbody tr th:only-of-type {\n",
       "        vertical-align: middle;\n",
       "    }\n",
       "\n",
       "    .dataframe tbody tr th {\n",
       "        vertical-align: top;\n",
       "    }\n",
       "\n",
       "    .dataframe thead th {\n",
       "        text-align: right;\n",
       "    }\n",
       "</style>\n",
       "<table border=\"1\" class=\"dataframe\">\n",
       "  <thead>\n",
       "    <tr style=\"text-align: right;\">\n",
       "      <th></th>\n",
       "      <th>name</th>\n",
       "      <th>age</th>\n",
       "    </tr>\n",
       "  </thead>\n",
       "  <tbody>\n",
       "    <tr>\n",
       "      <td>0</td>\n",
       "      <td>John</td>\n",
       "      <td>20</td>\n",
       "    </tr>\n",
       "    <tr>\n",
       "      <td>1</td>\n",
       "      <td>Jenny</td>\n",
       "      <td>30</td>\n",
       "    </tr>\n",
       "    <tr>\n",
       "      <td>2</td>\n",
       "      <td>Nate</td>\n",
       "      <td>30</td>\n",
       "    </tr>\n",
       "  </tbody>\n",
       "</table>\n",
       "</div>"
      ],
      "text/plain": [
       "    name  age\n",
       "0   John   20\n",
       "1  Jenny   30\n",
       "2   Nate   30"
      ]
     },
     "execution_count": 91,
     "metadata": {},
     "output_type": "execute_result"
    }
   ],
   "source": [
    "# 13. 데이터프레임에서 'name'과 'age' 열만 출력해 보세요.\n",
    "test.loc[:, ['name', 'age']]"
   ]
  },
  {
   "cell_type": "code",
   "execution_count": null,
   "metadata": {},
   "outputs": [],
   "source": []
  }
 ],
 "metadata": {
  "kernelspec": {
   "display_name": "Python 3",
   "language": "python",
   "name": "python3"
  },
  "language_info": {
   "codemirror_mode": {
    "name": "ipython",
    "version": 3
   },
   "file_extension": ".py",
   "mimetype": "text/x-python",
   "name": "python",
   "nbconvert_exporter": "python",
   "pygments_lexer": "ipython3",
   "version": "3.7.4"
  }
 },
 "nbformat": 4,
 "nbformat_minor": 2
}
