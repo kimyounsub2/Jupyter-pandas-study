{
 "cells": [
  {
   "cell_type": "code",
   "execution_count": 2,
   "metadata": {},
   "outputs": [
    {
     "data": {
      "text/plain": [
       "['../data/names\\\\yob2010.txt',\n",
       " '../data/names\\\\yob2011.txt',\n",
       " '../data/names\\\\yob2012.txt',\n",
       " '../data/names\\\\yob2013.txt',\n",
       " '../data/names\\\\yob2014.txt',\n",
       " '../data/names\\\\yob2015.txt']"
      ]
     },
     "execution_count": 2,
     "metadata": {},
     "output_type": "execute_result"
    }
   ],
   "source": [
    "import glob\n",
    "# glob.glob('../data/names/yob*')\n",
    "# <glob 과정중에 특정 범위를 찾고 싶을때>\n",
    "glob.glob('../data/names/yob201[0-5].txt') # ->2010-2015 txt파일 불러오기"
   ]
  },
  {
   "cell_type": "code",
   "execution_count": 3,
   "metadata": {},
   "outputs": [],
   "source": [
    "import pandas as pd"
   ]
  },
  {
   "cell_type": "code",
   "execution_count": 16,
   "metadata": {},
   "outputs": [],
   "source": [
    "columns = ['name','sex','births']\n",
    "baby = []\n",
    "years = range(2000, 2010)"
   ]
  },
  {
   "cell_type": "code",
   "execution_count": 37,
   "metadata": {},
   "outputs": [
    {
     "name": "stdout",
     "output_type": "stream",
     "text": [
      "../data/names/yob2000.txt\n",
      "../data/names/yob2001.txt\n",
      "../data/names/yob2002.txt\n",
      "../data/names/yob2003.txt\n",
      "../data/names/yob2004.txt\n",
      "../data/names/yob2005.txt\n",
      "../data/names/yob2006.txt\n",
      "../data/names/yob2007.txt\n",
      "../data/names/yob2008.txt\n",
      "../data/names/yob2009.txt\n",
      "60\n"
     ]
    }
   ],
   "source": [
    "for yy in years:\n",
    "    file = '../data/names/yob%d.txt' %yy\n",
    "    print(file)\n",
    "    df = pd.read_csv(file, names=columns)\n",
    "    df['year']=yy\n",
    "    baby.append(df)\n",
    "print(len(baby))"
   ]
  },
  {
   "cell_type": "code",
   "execution_count": 30,
   "metadata": {
    "scrolled": true
   },
   "outputs": [
    {
     "name": "stdout",
     "output_type": "stream",
     "text": [
      "         name sex  births  year\n",
      "0       Emily   F   25956  2000\n",
      "1      Hannah   F   23082  2000\n",
      "2     Madison   F   19968  2000\n",
      "3      Ashley   F   17997  2000\n",
      "4       Sarah   F   17702  2000\n",
      "5      Alexis   F   17629  2000\n",
      "6    Samantha   F   17265  2000\n",
      "7     Jessica   F   15709  2000\n",
      "8   Elizabeth   F   15099  2000\n",
      "9      Taylor   F   15078  2000\n",
      "10     Lauren   F   14175  2000\n",
      "11     Alyssa   F   13553  2000\n",
      "12      Kayla   F   13312  2000\n",
      "13    Abigail   F   13090  2000\n",
      "14    Brianna   F   12879  2000\n",
      "15     Olivia   F   12852  2000\n",
      "16       Emma   F   12552  2000\n",
      "17      Megan   F   11434  2000\n",
      "18      Grace   F   11285  2000\n",
      "19   Victoria   F   10925  2000\n",
      "20     Rachel   F   10675  2000\n",
      "21       Anna   F   10589  2000\n",
      "22     Sydney   F   10242  2000\n",
      "23    Destiny   F    9850  2000\n",
      "24     Morgan   F    9502  2000\n",
      "25   Jennifer   F    9386  2000\n",
      "26    Jasmine   F    9097  2000\n",
      "27      Haley   F    9069  2000\n",
      "28      Julia   F    8766  2000\n",
      "29    Kaitlyn   F    8758  2000\n"
     ]
    }
   ],
   "source": [
    "row_concat = pd.concat(baby, ignore_index = True)\n",
    "print(row_concat.head(30))"
   ]
  },
  {
   "cell_type": "code",
   "execution_count": 31,
   "metadata": {},
   "outputs": [
    {
     "data": {
      "text/plain": [
       "sex\n",
       "F    73855596\n",
       "M    79787964\n",
       "Name: births, dtype: int64"
      ]
     },
     "execution_count": 31,
     "metadata": {},
     "output_type": "execute_result"
    }
   ],
   "source": [
    "row_concat.groupby('sex').births.sum()"
   ]
  },
  {
   "cell_type": "code",
   "execution_count": 32,
   "metadata": {},
   "outputs": [],
   "source": [
    "### 그래프 한글 깨질때\n",
    "import matplotlib.pyplot as plt\n",
    "%matplotlib inline\n",
    "\n",
    "from matplotlib import font_manager, rc\n",
    "# - 기호 깨지는것 방지\n",
    "plt.rcParams['axes.unicode_minus'] = False\n",
    "\n",
    "f_path = \"C:/Windows/Fonts/malgun.ttf\"\n",
    "\n",
    "font_name = font_manager.FontProperties(fname = f_path).get_name()\n",
    "rc('font', family=font_name)"
   ]
  },
  {
   "cell_type": "code",
   "execution_count": 33,
   "metadata": {},
   "outputs": [
    {
     "data": {
      "image/png": "[encoded data removed]",
      "text/plain": [
       "<Figure size 432x288 with 1 Axes>"
      ]
     },
     "metadata": {},
     "output_type": "display_data"
    }
   ],
   "source": [
    "# 2. 2010~2015에 출생한 전체 남/녀 수의 합을 구하세요.\n",
    "fcount = sum(row_concat[row_concat['sex'] == 'F']['births'])\n",
    "mcount = sum(row_concat[row_concat['sex'] == 'M']['births'])\n",
    "labels = ('남({:,})'. format(mcount), '여({:,})'.format(fcount))\n",
    "sizes = [mcount, fcount]\n",
    "colors = ['skyblue', 'pink']\n",
    "explode = (0, 0.1)\n",
    "plt.pie(sizes, explode = explode, labels = labels, colors = colors, autopct = '%1.1f%%', shadow=True, startangle=90)\n",
    "plt.show()"
   ]
  },
  {
   "cell_type": "code",
   "execution_count": 34,
   "metadata": {},
   "outputs": [],
   "source": [
    "import seaborn as sns\n",
    "import matplotlib.pyplot as plt"
   ]
  },
  {
   "cell_type": "code",
   "execution_count": 35,
   "metadata": {},
   "outputs": [
    {
     "data": {
      "text/plain": [
       "Text(0.5, 1.0, '연도별 남/여 숫자')"
      ]
     },
     "execution_count": 35,
     "metadata": {},
     "output_type": "execute_result"
    },
    {
     "data": {
      "image/png": "[encoded data removed]",
      "text/plain": [
       "<Figure size 432x288 with 1 Axes>"
      ]
     },
     "metadata": {
      "needs_background": "light"
     },
     "output_type": "display_data"
    }
   ],
   "source": [
    "# 3 년도별 남여 출생 추이 그래프를 그리세요.\n",
    "ax = plt.subplots()\n",
    "ax = sns.countplot(x = 'year', hue = 'sex', data = row_concat )\n",
    "ax.set_title('연도별 남/여 숫자')"
   ]
  },
  {
   "cell_type": "code",
   "execution_count": null,
   "metadata": {},
   "outputs": [],
   "source": []
  },
  {
   "cell_type": "code",
   "execution_count": null,
   "metadata": {},
   "outputs": [],
   "source": []
  }
 ],
 "metadata": {
  "kernelspec": {
   "display_name": "Python 3",
   "language": "python",
   "name": "python3"
  },
  "language_info": {
   "codemirror_mode": {
    "name": "ipython",
    "version": 3
   },
   "file_extension": ".py",
   "mimetype": "text/x-python",
   "name": "python",
   "nbconvert_exporter": "python",
   "pygments_lexer": "ipython3",
   "version": "3.7.4"
  }
 },
 "nbformat": 4,
 "nbformat_minor": 2
}
