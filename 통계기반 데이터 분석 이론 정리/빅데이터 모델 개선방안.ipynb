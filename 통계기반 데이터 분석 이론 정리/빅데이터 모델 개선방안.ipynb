{
 "cells": [
  {
   "cell_type": "markdown",
   "metadata": {},
   "source": [
    "# 빅데이터 모델 개선방안\n",
    "\n",
    "## 생명주기의 개념\n",
    "\n",
    "* 생명주기\n",
    "    * 하나의 기술이나 제품이 세상에 발표된 때부터 더 이상 사용되지 않게 되거나 시장에 나타나지 않을 때까지의 기간을 말함\n",
    "    * 생성부터 소멸까지의 기간을 말함\n",
    "* 시스템 생명주기\n",
    "    * 소프트웨어나 시스템의 개념 형성에서부터 사용 정지에 이르기까지 발전상의 변화의 전 과정을 말함\n",
    "    * 소프트웨어 생명주기, 시스템 생명주기라고 함\n",
    "    \n",
    "## 정보시스템 생명주기\n",
    "* 시스템 개발 생명주기 5단계\n",
    "    * 시스템 조사(Investigation)\n",
    "    * 시스템 분석(Analysis)\n",
    "    * 시스템 설계(Design)\n",
    "    * 시스템 구현(Implementation)\n",
    "    * 시스템 유지보수(Maintenance)\n",
    "\n",
    "## 분석 모델 시스템 생명주기\n",
    "* 데이터 모델링 : 정보시스템을 구축하기 위해 해당 업무에 어떤 데이터가 존재하는지, 업무가 필요로 하는 정보는 무엇인지 분석하는 방법을 말함\n",
    "* 프로젝트 단계와 모델링 수행\n",
    "    * 계획, 분석, 설계, 시험, 운용, 보수의 단계를 거쳐 모형의 생명주기가 작동됨\n",
    "    * 분석 단계 부터 통계적 기법을 사용한 모델이 적용됨\n",
    "    * 설계, 시험, 운용을 거치며 모델의 효용성을 판단하여 보수 단계를 거침\n",
    "    * 새로운 프로젝트나 시스템 유지/보수가 필요한 경우에 따라 생명주기가 재가동됨"
   ]
  },
  {
   "cell_type": "code",
   "execution_count": null,
   "metadata": {},
   "outputs": [],
   "source": []
  }
 ],
 "metadata": {
  "kernelspec": {
   "display_name": "Python 3",
   "language": "python",
   "name": "python3"
  },
  "language_info": {
   "codemirror_mode": {
    "name": "ipython",
    "version": 3
   },
   "file_extension": ".py",
   "mimetype": "text/x-python",
   "name": "python",
   "nbconvert_exporter": "python",
   "pygments_lexer": "ipython3",
   "version": "3.7.0"
  }
 },
 "nbformat": 4,
 "nbformat_minor": 2
}
