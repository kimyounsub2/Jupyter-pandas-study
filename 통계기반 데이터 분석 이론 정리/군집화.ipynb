{
 "cells": [
  {
   "cell_type": "markdown",
   "metadata": {},
   "source": [
    "## 군집화의 개념\n",
    "* 군집화 : 대상 개체를 유사하거나 서로 관련있는 항목끼리 묶어 몇개의 집단으로 그룹화 하는 것\n",
    "* 군집 분석의 종류 : 상호배반적, 계보적, 중복군집, 퍼지\n",
    "* 계층적 군집화 : 최단 연결법, 최장 연결법, 평균 연결법, 와드 연결법\n",
    "* 비계층적 군집화 : K평균 군집화\n",
    "* 군집 기법의 장점 : 탐색적 기법, 다양한 데이터에 적용 가능, 분석방법의 적용이 용이\n",
    "* 군집 기법의 단점 : 가중치와 거리 정의, 초기 군집수 설정이 힘들고 겨로가 해석이 어려움\n",
    "\n",
    "## 군집화의 예시와 활용\n",
    "* 군집 분석 절차에 대한 5단계로 연구문제 확정, 대상 개체 및 변수 확정, 군집 방법 결정, 연결방법 및 거리척도 결정, 군집계수 결정 및 해석이 있음\n",
    "* 군집 분석 종류는 자료의 크기에 따라 계층적 군집 분석과 비계층적 군집 분석이 있어서 이를 선택 도식화함\n",
    "* K 평균 군집화를 통해 군집 분석에 대한 자료를 활용할 수 있음\n",
    "\n",
    "## R을 이용한 군집화\n",
    "* R로 하는 의사결정나무 분석은 붓꽃의 종에 대한 사전정보를 제거해야 함\n",
    "* 군집분석은 사전정보가 필요 없음\n",
    "* K평균 군집분석을 사용하는 함수는 kmeans()함수임"
   ]
  },
  {
   "cell_type": "code",
   "execution_count": null,
   "metadata": {},
   "outputs": [],
   "source": []
  }
 ],
 "metadata": {
  "kernelspec": {
   "display_name": "Python 3",
   "language": "python",
   "name": "python3"
  },
  "language_info": {
   "codemirror_mode": {
    "name": "ipython",
    "version": 3
   },
   "file_extension": ".py",
   "mimetype": "text/x-python",
   "name": "python",
   "nbconvert_exporter": "python",
   "pygments_lexer": "ipython3",
   "version": "3.7.0"
  }
 },
 "nbformat": 4,
 "nbformat_minor": 2
}
